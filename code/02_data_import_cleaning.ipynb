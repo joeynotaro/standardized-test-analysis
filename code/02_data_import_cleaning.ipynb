{
 "cells": [
  {
   "cell_type": "markdown",
   "metadata": {},
   "source": [
    "<img src=\"http://imgur.com/1ZcRyrc.png\" style=\"float: left; margin: 20px; height: 55px\">\n",
    "\n",
    "# Project 1: Standardized Test Analysis"
   ]
  },
  {
   "cell_type": "markdown",
   "metadata": {},
   "source": [
    "--- \n",
    "# Part 2: Data Import and Cleaning\n",
    "\n",
    "## Notebook Summary\n",
    "\n",
    "This notebook imports three datasets from our original ten csv files and then cleans the data to prepare for analysis and visualization. Included in this notebook, the reader will find:\n",
    "\n",
    "* Data cleaning methods for all three datasets\n",
    "* Updated data dictionaries for all three datasets\n",
    "\n",
    "---"
   ]
  },
  {
   "cell_type": "markdown",
   "metadata": {},
   "source": [
    "### Contents:\n",
    "- [Data Import and Cleaning](#Data-Import-and-Cleaning)\n",
    "- [Data Dictionary](#Data-Dictionary)\n",
    "- [Notebook Conclusion](#Notebook-Conclusion)"
   ]
  },
  {
   "cell_type": "markdown",
   "metadata": {},
   "source": [
    "---\n",
    "\n",
    "## Data Import and Cleaning"
   ]
  },
  {
   "cell_type": "markdown",
   "metadata": {},
   "source": [
    "### Data Import\n",
    "\n",
    "First, I will import the necessary Python libraries and data files to read into pandas dataframes."
   ]
  },
  {
   "cell_type": "code",
   "execution_count": 1,
   "metadata": {},
   "outputs": [],
   "source": [
    "# Imports:\n",
    "\n",
    "import pandas as pd\n",
    "import numpy as np"
   ]
  },
  {
   "cell_type": "code",
   "execution_count": 2,
   "metadata": {},
   "outputs": [],
   "source": [
    "# Read in data files\n",
    "\n",
    "sat_2019 = pd.read_csv('../data/sat_2019.csv')\n",
    "sat_by_major = pd.read_csv('../data/sat_2019_by_intended_college_major.csv')\n",
    "sat_by_college = pd.read_csv('../data/sat_act_by_college.csv')"
   ]
  },
  {
   "cell_type": "markdown",
   "metadata": {},
   "source": [
    "Next, I will be following some specific technical steps to clean the data and make it usable for exploratory data analysis and the creation of data visualizations. These steps were provided by General Assembly (GA). I will be going through the requisite steps for each dataset one at a time, so the reader will see that I have marked each dataset's cleaning with a heading. However, all three datasets follow the same cleaning process. Any additional cleaning beyond these steps provided by GA I have made note of."
   ]
  },
  {
   "cell_type": "markdown",
   "metadata": {
    "tags": []
   },
   "source": [
    "### Data Import & Cleaning\n",
    "\n",
    "Import the datasets that you selected for this project and go through the following steps at a minimum. You are welcome to do further cleaning as you feel necessary:\n",
    "1. Display the data: print the first 5 rows of each dataframe to your Jupyter notebook.\n",
    "2. Check for missing values.\n",
    "3. Check for any obvious issues with the observations (keep in mind the minimum & maximum possible values for each test/subtest).\n",
    "4. Fix any errors you identified in steps 2-3.\n",
    "5. Display the data types of each feature.\n",
    "6. Fix any incorrect data types found in step 5.\n",
    "    - Fix any individual values preventing other columns from being the appropriate type.\n",
    "    - If your dataset has a column of percents (ex. '50%', '30.5%', etc.), use the function you wrote in Part 1 (coding challenges, number 3) to convert this to floats! *Hint*: use `.map()` or `.apply()`.\n",
    "7. Rename Columns.\n",
    "    - Column names should be all lowercase.\n",
    "    - Column names should not contain spaces (underscores will suffice--this allows for using the `df.column_name` method to access columns in addition to `df['column_name']`).\n",
    "    - Column names should be unique and informative.\n",
    "8. Drop unnecessary rows (if needed).\n",
    "9. Merge dataframes that can be merged.\n",
    "10. Perform any additional cleaning that you feel is necessary.\n",
    "11. Save your cleaned and merged dataframes as csv files."
   ]
  },
  {
   "cell_type": "markdown",
   "metadata": {},
   "source": [
    "---\n",
    "\n",
    "### 2019 SAT Scores by State Data Cleaning"
   ]
  },
  {
   "cell_type": "code",
   "execution_count": 3,
   "metadata": {
    "tags": []
   },
   "outputs": [
    {
     "name": "stdout",
     "output_type": "stream",
     "text": [
      "(53, 5)\n"
     ]
    },
    {
     "data": {
      "text/html": [
       "<div>\n",
       "<style scoped>\n",
       "    .dataframe tbody tr th:only-of-type {\n",
       "        vertical-align: middle;\n",
       "    }\n",
       "\n",
       "    .dataframe tbody tr th {\n",
       "        vertical-align: top;\n",
       "    }\n",
       "\n",
       "    .dataframe thead th {\n",
       "        text-align: right;\n",
       "    }\n",
       "</style>\n",
       "<table border=\"1\" class=\"dataframe\">\n",
       "  <thead>\n",
       "    <tr style=\"text-align: right;\">\n",
       "      <th></th>\n",
       "      <th>State</th>\n",
       "      <th>Participation Rate</th>\n",
       "      <th>EBRW</th>\n",
       "      <th>Math</th>\n",
       "      <th>Total</th>\n",
       "    </tr>\n",
       "  </thead>\n",
       "  <tbody>\n",
       "    <tr>\n",
       "      <th>0</th>\n",
       "      <td>Alabama</td>\n",
       "      <td>7%</td>\n",
       "      <td>583</td>\n",
       "      <td>560</td>\n",
       "      <td>1143</td>\n",
       "    </tr>\n",
       "    <tr>\n",
       "      <th>1</th>\n",
       "      <td>Alaska</td>\n",
       "      <td>41%</td>\n",
       "      <td>556</td>\n",
       "      <td>541</td>\n",
       "      <td>1097</td>\n",
       "    </tr>\n",
       "    <tr>\n",
       "      <th>2</th>\n",
       "      <td>Arizona</td>\n",
       "      <td>31%</td>\n",
       "      <td>569</td>\n",
       "      <td>565</td>\n",
       "      <td>1134</td>\n",
       "    </tr>\n",
       "    <tr>\n",
       "      <th>3</th>\n",
       "      <td>Arkansas</td>\n",
       "      <td>6%</td>\n",
       "      <td>582</td>\n",
       "      <td>559</td>\n",
       "      <td>1141</td>\n",
       "    </tr>\n",
       "    <tr>\n",
       "      <th>4</th>\n",
       "      <td>California</td>\n",
       "      <td>63%</td>\n",
       "      <td>534</td>\n",
       "      <td>531</td>\n",
       "      <td>1065</td>\n",
       "    </tr>\n",
       "  </tbody>\n",
       "</table>\n",
       "</div>"
      ],
      "text/plain": [
       "        State Participation Rate  EBRW  Math  Total\n",
       "0     Alabama                 7%   583   560   1143\n",
       "1      Alaska                41%   556   541   1097\n",
       "2     Arizona                31%   569   565   1134\n",
       "3    Arkansas                 6%   582   559   1141\n",
       "4  California                63%   534   531   1065"
      ]
     },
     "execution_count": 3,
     "metadata": {},
     "output_type": "execute_result"
    }
   ],
   "source": [
    "print(sat_2019.shape)\n",
    "\n",
    "sat_2019.head()"
   ]
  },
  {
   "cell_type": "markdown",
   "metadata": {},
   "source": [
    "Since this dataset represents SAT scores in each of the states, I thought it was suspect that the data contained 53 observations instead of 50 or 51 (including the District of Columbia). I decided to run a count of all the entries."
   ]
  },
  {
   "cell_type": "code",
   "execution_count": 4,
   "metadata": {
    "tags": []
   },
   "outputs": [
    {
     "data": {
      "text/plain": [
       "State                 Participation Rate  EBRW  Math  Total\n",
       "Alabama               7%                  583   560   1143     1\n",
       "Nebraska              3%                  628   631   1260     1\n",
       "New Hampshire         95%                 533   526   1059     1\n",
       "New Jersey            82%                 544   545   1090     1\n",
       "New Mexico            18%                 543   530   1073     1\n",
       "New York              79%                 531   533   1064     1\n",
       "North Carolina        51%                 554   546   1100     1\n",
       "North Dakota          2%                  627   636   1263     1\n",
       "Ohio                  19%                 550   548   1097     1\n",
       "Oklahoma              22%                 490   472   963      1\n",
       "Oregon                51%                 562   550   1112     1\n",
       "Pennsylvania          70%                 545   537   1082     1\n",
       "Puerto Rico           —                   483   462   944      1\n",
       "Rhode Island          100%                503   492   995      1\n",
       "South Carolina        68%                 526   504   1030     1\n",
       "South Dakota          3%                  633   635   1268     1\n",
       "Tennessee             7%                  618   602   1220     1\n",
       "Texas                 68%                 515   507   1022     1\n",
       "Utah                  4%                  614   615   1230     1\n",
       "Vermont               66%                 560   546   1106     1\n",
       "Virgin Islands        —                   490   445   935      1\n",
       "Virginia              68%                 567   551   1119     1\n",
       "Washington            70%                 539   535   1074     1\n",
       "West Virginia         99%                 483   460   943      1\n",
       "Wisconsin             3%                  635   648   1283     1\n",
       "Nevada                20%                 580   576   1156     1\n",
       "Montana               9%                  603   596   1199     1\n",
       "Alaska                41%                 556   541   1097     1\n",
       "Missouri              4%                  622   615   1236     1\n",
       "Arizona               31%                 569   565   1134     1\n",
       "Arkansas              6%                  582   559   1141     1\n",
       "California            63%                 534   531   1065     1\n",
       "Colorado              100%                518   506   1024     1\n",
       "Connecticut           100%                529   516   1046     1\n",
       "Delaware              100%                499   486   985      1\n",
       "District of Columbia  94%                 495   480   975      1\n",
       "Florida               100%                516   483   999      1\n",
       "Georgia               71%                 538   519   1058     1\n",
       "Hawaii                54%                 550   550   1100     1\n",
       "Idaho                 100%                505   488   993      1\n",
       "Illinois              100%                509   504   1013     1\n",
       "Indiana               66%                 543   537   1080     1\n",
       "Iowa                  3%                  622   622   1244     1\n",
       "Kansas                4%                  618   623   1241     1\n",
       "Kentucky              4%                  620   612   1232     1\n",
       "Louisiana             5%                  610   591   1200     1\n",
       "Maine                 99%                 512   502   1013     1\n",
       "Maryland              82%                 535   523   1058     1\n",
       "Massachusetts         81%                 559   561   1120     1\n",
       "Michigan              100%                507   496   1003     1\n",
       "Minnesota             4%                  636   648   1284     1\n",
       "Mississippi           3%                  628   608   1237     1\n",
       "Wyoming               3%                  623   615   1238     1\n",
       "dtype: int64"
      ]
     },
     "execution_count": 4,
     "metadata": {},
     "output_type": "execute_result"
    }
   ],
   "source": [
    "sat_2019.value_counts()"
   ]
  },
  {
   "cell_type": "markdown",
   "metadata": {},
   "source": [
    "I noticed that there are two observations with missing participation rates and both happen to be U.S. territories, Puerto Rico and the Virgin Islands. I have decided to mark these observations as null values and then drop all null values."
   ]
  },
  {
   "cell_type": "code",
   "execution_count": 5,
   "metadata": {
    "tags": []
   },
   "outputs": [
    {
     "data": {
      "text/plain": [
       "(51, 5)"
      ]
     },
     "execution_count": 5,
     "metadata": {},
     "output_type": "execute_result"
    }
   ],
   "source": [
    "sat_2019['Participation Rate'] = sat_2019['Participation Rate']\\\n",
    ".map(lambda rate: np.nan if rate == '—' else rate)\n",
    "\n",
    "sat_2019.dropna(inplace = True)\n",
    "\n",
    "sat_2019.shape"
   ]
  },
  {
   "cell_type": "code",
   "execution_count": 6,
   "metadata": {
    "tags": []
   },
   "outputs": [
    {
     "data": {
      "text/plain": [
       "State                 0\n",
       "Participation Rate    0\n",
       "EBRW                  0\n",
       "Math                  0\n",
       "Total                 0\n",
       "dtype: int64"
      ]
     },
     "execution_count": 6,
     "metadata": {},
     "output_type": "execute_result"
    }
   ],
   "source": [
    "sat_2019.isnull().sum()"
   ]
  },
  {
   "cell_type": "code",
   "execution_count": 7,
   "metadata": {
    "tags": []
   },
   "outputs": [
    {
     "data": {
      "text/plain": [
       "State                 object\n",
       "Participation Rate    object\n",
       "EBRW                   int64\n",
       "Math                   int64\n",
       "Total                  int64\n",
       "dtype: object"
      ]
     },
     "execution_count": 7,
     "metadata": {},
     "output_type": "execute_result"
    }
   ],
   "source": [
    "sat_2019.dtypes"
   ]
  },
  {
   "cell_type": "code",
   "execution_count": 8,
   "metadata": {
    "tags": []
   },
   "outputs": [
    {
     "data": {
      "text/html": [
       "<div>\n",
       "<style scoped>\n",
       "    .dataframe tbody tr th:only-of-type {\n",
       "        vertical-align: middle;\n",
       "    }\n",
       "\n",
       "    .dataframe tbody tr th {\n",
       "        vertical-align: top;\n",
       "    }\n",
       "\n",
       "    .dataframe thead th {\n",
       "        text-align: right;\n",
       "    }\n",
       "</style>\n",
       "<table border=\"1\" class=\"dataframe\">\n",
       "  <thead>\n",
       "    <tr style=\"text-align: right;\">\n",
       "      <th></th>\n",
       "      <th>State</th>\n",
       "      <th>Participation Rate</th>\n",
       "      <th>EBRW</th>\n",
       "      <th>Math</th>\n",
       "      <th>Total</th>\n",
       "    </tr>\n",
       "  </thead>\n",
       "  <tbody>\n",
       "    <tr>\n",
       "      <th>0</th>\n",
       "      <td>Alabama</td>\n",
       "      <td>0.07</td>\n",
       "      <td>583</td>\n",
       "      <td>560</td>\n",
       "      <td>1143</td>\n",
       "    </tr>\n",
       "    <tr>\n",
       "      <th>1</th>\n",
       "      <td>Alaska</td>\n",
       "      <td>0.41</td>\n",
       "      <td>556</td>\n",
       "      <td>541</td>\n",
       "      <td>1097</td>\n",
       "    </tr>\n",
       "    <tr>\n",
       "      <th>2</th>\n",
       "      <td>Arizona</td>\n",
       "      <td>0.31</td>\n",
       "      <td>569</td>\n",
       "      <td>565</td>\n",
       "      <td>1134</td>\n",
       "    </tr>\n",
       "    <tr>\n",
       "      <th>3</th>\n",
       "      <td>Arkansas</td>\n",
       "      <td>0.06</td>\n",
       "      <td>582</td>\n",
       "      <td>559</td>\n",
       "      <td>1141</td>\n",
       "    </tr>\n",
       "    <tr>\n",
       "      <th>4</th>\n",
       "      <td>California</td>\n",
       "      <td>0.63</td>\n",
       "      <td>534</td>\n",
       "      <td>531</td>\n",
       "      <td>1065</td>\n",
       "    </tr>\n",
       "  </tbody>\n",
       "</table>\n",
       "</div>"
      ],
      "text/plain": [
       "        State  Participation Rate  EBRW  Math  Total\n",
       "0     Alabama                0.07   583   560   1143\n",
       "1      Alaska                0.41   556   541   1097\n",
       "2     Arizona                0.31   569   565   1134\n",
       "3    Arkansas                0.06   582   559   1141\n",
       "4  California                0.63   534   531   1065"
      ]
     },
     "execution_count": 8,
     "metadata": {},
     "output_type": "execute_result"
    }
   ],
   "source": [
    "sat_2019['Participation Rate'] = sat_2019['Participation Rate']\\\n",
    ".map(lambda rate: float(rate.replace('%', ' ')) * 0.01)\n",
    "\n",
    "sat_2019.head()"
   ]
  },
  {
   "cell_type": "code",
   "execution_count": 9,
   "metadata": {
    "tags": []
   },
   "outputs": [
    {
     "data": {
      "text/plain": [
       "State                  object\n",
       "Participation Rate    float64\n",
       "EBRW                    int64\n",
       "Math                    int64\n",
       "Total                   int64\n",
       "dtype: object"
      ]
     },
     "execution_count": 9,
     "metadata": {},
     "output_type": "execute_result"
    }
   ],
   "source": [
    "sat_2019.dtypes"
   ]
  },
  {
   "cell_type": "code",
   "execution_count": 10,
   "metadata": {
    "tags": []
   },
   "outputs": [
    {
     "data": {
      "text/html": [
       "<div>\n",
       "<style scoped>\n",
       "    .dataframe tbody tr th:only-of-type {\n",
       "        vertical-align: middle;\n",
       "    }\n",
       "\n",
       "    .dataframe tbody tr th {\n",
       "        vertical-align: top;\n",
       "    }\n",
       "\n",
       "    .dataframe thead th {\n",
       "        text-align: right;\n",
       "    }\n",
       "</style>\n",
       "<table border=\"1\" class=\"dataframe\">\n",
       "  <thead>\n",
       "    <tr style=\"text-align: right;\">\n",
       "      <th></th>\n",
       "      <th>state</th>\n",
       "      <th>participation_rate</th>\n",
       "      <th>reading_writing_score</th>\n",
       "      <th>math_score</th>\n",
       "      <th>total_score</th>\n",
       "    </tr>\n",
       "  </thead>\n",
       "  <tbody>\n",
       "    <tr>\n",
       "      <th>0</th>\n",
       "      <td>Alabama</td>\n",
       "      <td>0.07</td>\n",
       "      <td>583</td>\n",
       "      <td>560</td>\n",
       "      <td>1143</td>\n",
       "    </tr>\n",
       "    <tr>\n",
       "      <th>1</th>\n",
       "      <td>Alaska</td>\n",
       "      <td>0.41</td>\n",
       "      <td>556</td>\n",
       "      <td>541</td>\n",
       "      <td>1097</td>\n",
       "    </tr>\n",
       "    <tr>\n",
       "      <th>2</th>\n",
       "      <td>Arizona</td>\n",
       "      <td>0.31</td>\n",
       "      <td>569</td>\n",
       "      <td>565</td>\n",
       "      <td>1134</td>\n",
       "    </tr>\n",
       "    <tr>\n",
       "      <th>3</th>\n",
       "      <td>Arkansas</td>\n",
       "      <td>0.06</td>\n",
       "      <td>582</td>\n",
       "      <td>559</td>\n",
       "      <td>1141</td>\n",
       "    </tr>\n",
       "    <tr>\n",
       "      <th>4</th>\n",
       "      <td>California</td>\n",
       "      <td>0.63</td>\n",
       "      <td>534</td>\n",
       "      <td>531</td>\n",
       "      <td>1065</td>\n",
       "    </tr>\n",
       "  </tbody>\n",
       "</table>\n",
       "</div>"
      ],
      "text/plain": [
       "        state  participation_rate  reading_writing_score  math_score  \\\n",
       "0     Alabama                0.07                    583         560   \n",
       "1      Alaska                0.41                    556         541   \n",
       "2     Arizona                0.31                    569         565   \n",
       "3    Arkansas                0.06                    582         559   \n",
       "4  California                0.63                    534         531   \n",
       "\n",
       "   total_score  \n",
       "0         1143  \n",
       "1         1097  \n",
       "2         1134  \n",
       "3         1141  \n",
       "4         1065  "
      ]
     },
     "execution_count": 10,
     "metadata": {},
     "output_type": "execute_result"
    }
   ],
   "source": [
    "sat_2019_cols_dict = {\n",
    "    'State': 'state',\n",
    "    'Participation Rate': 'participation_rate',\n",
    "    'EBRW': 'reading_writing_score',\n",
    "    'Math': 'math_score',\n",
    "    'Total': 'total_score'\n",
    "}\n",
    "\n",
    "sat_2019.rename(columns = sat_2019_cols_dict, inplace = True)\n",
    "\n",
    "sat_2019.head()"
   ]
  },
  {
   "cell_type": "markdown",
   "metadata": {},
   "source": [
    "---\n",
    "\n",
    "### 2019 SAT Scores by Intended College Major Data Cleaning"
   ]
  },
  {
   "cell_type": "code",
   "execution_count": 11,
   "metadata": {
    "tags": []
   },
   "outputs": [
    {
     "name": "stdout",
     "output_type": "stream",
     "text": [
      "(38, 6)\n"
     ]
    },
    {
     "data": {
      "text/html": [
       "<div>\n",
       "<style scoped>\n",
       "    .dataframe tbody tr th:only-of-type {\n",
       "        vertical-align: middle;\n",
       "    }\n",
       "\n",
       "    .dataframe tbody tr th {\n",
       "        vertical-align: top;\n",
       "    }\n",
       "\n",
       "    .dataframe thead th {\n",
       "        text-align: right;\n",
       "    }\n",
       "</style>\n",
       "<table border=\"1\" class=\"dataframe\">\n",
       "  <thead>\n",
       "    <tr style=\"text-align: right;\">\n",
       "      <th></th>\n",
       "      <th>IntendedCollegeMajor</th>\n",
       "      <th>TestTakers</th>\n",
       "      <th>Percent</th>\n",
       "      <th>Total</th>\n",
       "      <th>ReadingWriting</th>\n",
       "      <th>Math</th>\n",
       "    </tr>\n",
       "  </thead>\n",
       "  <tbody>\n",
       "    <tr>\n",
       "      <th>0</th>\n",
       "      <td>Agriculture, AgricultureOperations, and Relate...</td>\n",
       "      <td>24,913</td>\n",
       "      <td>1%</td>\n",
       "      <td>977</td>\n",
       "      <td>496</td>\n",
       "      <td>481</td>\n",
       "    </tr>\n",
       "    <tr>\n",
       "      <th>1</th>\n",
       "      <td>Architecture and Related Services</td>\n",
       "      <td>28,988</td>\n",
       "      <td>2%</td>\n",
       "      <td>1047</td>\n",
       "      <td>520</td>\n",
       "      <td>527</td>\n",
       "    </tr>\n",
       "    <tr>\n",
       "      <th>2</th>\n",
       "      <td>Area, Ethnic, Cultural, and Gender Studies</td>\n",
       "      <td>2,629</td>\n",
       "      <td>0%</td>\n",
       "      <td>1040</td>\n",
       "      <td>536</td>\n",
       "      <td>504</td>\n",
       "    </tr>\n",
       "    <tr>\n",
       "      <th>3</th>\n",
       "      <td>Biological and Biomedical Sciences</td>\n",
       "      <td>155,834</td>\n",
       "      <td>8%</td>\n",
       "      <td>1139</td>\n",
       "      <td>572</td>\n",
       "      <td>566</td>\n",
       "    </tr>\n",
       "    <tr>\n",
       "      <th>4</th>\n",
       "      <td>Business, Management, Marketing, and Related S...</td>\n",
       "      <td>221,523</td>\n",
       "      <td>12%</td>\n",
       "      <td>1072</td>\n",
       "      <td>534</td>\n",
       "      <td>537</td>\n",
       "    </tr>\n",
       "  </tbody>\n",
       "</table>\n",
       "</div>"
      ],
      "text/plain": [
       "                                IntendedCollegeMajor TestTakers Percent  \\\n",
       "0  Agriculture, AgricultureOperations, and Relate...     24,913      1%   \n",
       "1                  Architecture and Related Services     28,988      2%   \n",
       "2         Area, Ethnic, Cultural, and Gender Studies      2,629      0%   \n",
       "3                 Biological and Biomedical Sciences    155,834      8%   \n",
       "4  Business, Management, Marketing, and Related S...    221,523     12%   \n",
       "\n",
       "   Total  ReadingWriting  Math  \n",
       "0    977             496   481  \n",
       "1   1047             520   527  \n",
       "2   1040             536   504  \n",
       "3   1139             572   566  \n",
       "4   1072             534   537  "
      ]
     },
     "execution_count": 11,
     "metadata": {},
     "output_type": "execute_result"
    }
   ],
   "source": [
    "print(sat_by_major.shape)\n",
    "\n",
    "sat_by_major.head()"
   ]
  },
  {
   "cell_type": "code",
   "execution_count": 12,
   "metadata": {
    "tags": []
   },
   "outputs": [
    {
     "data": {
      "text/plain": [
       "IntendedCollegeMajor    0\n",
       "TestTakers              0\n",
       "Percent                 0\n",
       "Total                   0\n",
       "ReadingWriting          0\n",
       "Math                    0\n",
       "dtype: int64"
      ]
     },
     "execution_count": 12,
     "metadata": {},
     "output_type": "execute_result"
    }
   ],
   "source": [
    "sat_by_major.isnull().sum()"
   ]
  },
  {
   "cell_type": "code",
   "execution_count": 13,
   "metadata": {
    "tags": []
   },
   "outputs": [
    {
     "data": {
      "text/plain": [
       "IntendedCollegeMajor    object\n",
       "TestTakers              object\n",
       "Percent                 object\n",
       "Total                    int64\n",
       "ReadingWriting           int64\n",
       "Math                     int64\n",
       "dtype: object"
      ]
     },
     "execution_count": 13,
     "metadata": {},
     "output_type": "execute_result"
    }
   ],
   "source": [
    "sat_by_major.dtypes"
   ]
  },
  {
   "cell_type": "code",
   "execution_count": 14,
   "metadata": {
    "tags": []
   },
   "outputs": [
    {
     "data": {
      "text/html": [
       "<div>\n",
       "<style scoped>\n",
       "    .dataframe tbody tr th:only-of-type {\n",
       "        vertical-align: middle;\n",
       "    }\n",
       "\n",
       "    .dataframe tbody tr th {\n",
       "        vertical-align: top;\n",
       "    }\n",
       "\n",
       "    .dataframe thead th {\n",
       "        text-align: right;\n",
       "    }\n",
       "</style>\n",
       "<table border=\"1\" class=\"dataframe\">\n",
       "  <thead>\n",
       "    <tr style=\"text-align: right;\">\n",
       "      <th></th>\n",
       "      <th>IntendedCollegeMajor</th>\n",
       "      <th>TestTakers</th>\n",
       "      <th>Percent</th>\n",
       "      <th>Total</th>\n",
       "      <th>ReadingWriting</th>\n",
       "      <th>Math</th>\n",
       "    </tr>\n",
       "  </thead>\n",
       "  <tbody>\n",
       "    <tr>\n",
       "      <th>0</th>\n",
       "      <td>Agriculture, AgricultureOperations, and Relate...</td>\n",
       "      <td>24,913</td>\n",
       "      <td>0.01</td>\n",
       "      <td>977</td>\n",
       "      <td>496</td>\n",
       "      <td>481</td>\n",
       "    </tr>\n",
       "    <tr>\n",
       "      <th>1</th>\n",
       "      <td>Architecture and Related Services</td>\n",
       "      <td>28,988</td>\n",
       "      <td>0.02</td>\n",
       "      <td>1047</td>\n",
       "      <td>520</td>\n",
       "      <td>527</td>\n",
       "    </tr>\n",
       "    <tr>\n",
       "      <th>2</th>\n",
       "      <td>Area, Ethnic, Cultural, and Gender Studies</td>\n",
       "      <td>2,629</td>\n",
       "      <td>0.00</td>\n",
       "      <td>1040</td>\n",
       "      <td>536</td>\n",
       "      <td>504</td>\n",
       "    </tr>\n",
       "    <tr>\n",
       "      <th>3</th>\n",
       "      <td>Biological and Biomedical Sciences</td>\n",
       "      <td>155,834</td>\n",
       "      <td>0.08</td>\n",
       "      <td>1139</td>\n",
       "      <td>572</td>\n",
       "      <td>566</td>\n",
       "    </tr>\n",
       "    <tr>\n",
       "      <th>4</th>\n",
       "      <td>Business, Management, Marketing, and Related S...</td>\n",
       "      <td>221,523</td>\n",
       "      <td>0.12</td>\n",
       "      <td>1072</td>\n",
       "      <td>534</td>\n",
       "      <td>537</td>\n",
       "    </tr>\n",
       "  </tbody>\n",
       "</table>\n",
       "</div>"
      ],
      "text/plain": [
       "                                IntendedCollegeMajor TestTakers  Percent  \\\n",
       "0  Agriculture, AgricultureOperations, and Relate...     24,913     0.01   \n",
       "1                  Architecture and Related Services     28,988     0.02   \n",
       "2         Area, Ethnic, Cultural, and Gender Studies      2,629     0.00   \n",
       "3                 Biological and Biomedical Sciences    155,834     0.08   \n",
       "4  Business, Management, Marketing, and Related S...    221,523     0.12   \n",
       "\n",
       "   Total  ReadingWriting  Math  \n",
       "0    977             496   481  \n",
       "1   1047             520   527  \n",
       "2   1040             536   504  \n",
       "3   1139             572   566  \n",
       "4   1072             534   537  "
      ]
     },
     "execution_count": 14,
     "metadata": {},
     "output_type": "execute_result"
    }
   ],
   "source": [
    "sat_by_major['Percent'] = sat_by_major['Percent']\\\n",
    ".map(lambda percent: float(percent.replace('%', ' ')) * 0.01)\n",
    "\n",
    "sat_by_major.head()"
   ]
  },
  {
   "cell_type": "code",
   "execution_count": 15,
   "metadata": {
    "tags": []
   },
   "outputs": [
    {
     "data": {
      "text/html": [
       "<div>\n",
       "<style scoped>\n",
       "    .dataframe tbody tr th:only-of-type {\n",
       "        vertical-align: middle;\n",
       "    }\n",
       "\n",
       "    .dataframe tbody tr th {\n",
       "        vertical-align: top;\n",
       "    }\n",
       "\n",
       "    .dataframe thead th {\n",
       "        text-align: right;\n",
       "    }\n",
       "</style>\n",
       "<table border=\"1\" class=\"dataframe\">\n",
       "  <thead>\n",
       "    <tr style=\"text-align: right;\">\n",
       "      <th></th>\n",
       "      <th>IntendedCollegeMajor</th>\n",
       "      <th>TestTakers</th>\n",
       "      <th>Percent</th>\n",
       "      <th>Total</th>\n",
       "      <th>ReadingWriting</th>\n",
       "      <th>Math</th>\n",
       "    </tr>\n",
       "  </thead>\n",
       "  <tbody>\n",
       "    <tr>\n",
       "      <th>0</th>\n",
       "      <td>Agriculture, AgricultureOperations, and Relate...</td>\n",
       "      <td>24913</td>\n",
       "      <td>0.01</td>\n",
       "      <td>977</td>\n",
       "      <td>496</td>\n",
       "      <td>481</td>\n",
       "    </tr>\n",
       "    <tr>\n",
       "      <th>1</th>\n",
       "      <td>Architecture and Related Services</td>\n",
       "      <td>28988</td>\n",
       "      <td>0.02</td>\n",
       "      <td>1047</td>\n",
       "      <td>520</td>\n",
       "      <td>527</td>\n",
       "    </tr>\n",
       "    <tr>\n",
       "      <th>2</th>\n",
       "      <td>Area, Ethnic, Cultural, and Gender Studies</td>\n",
       "      <td>2629</td>\n",
       "      <td>0.00</td>\n",
       "      <td>1040</td>\n",
       "      <td>536</td>\n",
       "      <td>504</td>\n",
       "    </tr>\n",
       "    <tr>\n",
       "      <th>3</th>\n",
       "      <td>Biological and Biomedical Sciences</td>\n",
       "      <td>155834</td>\n",
       "      <td>0.08</td>\n",
       "      <td>1139</td>\n",
       "      <td>572</td>\n",
       "      <td>566</td>\n",
       "    </tr>\n",
       "    <tr>\n",
       "      <th>4</th>\n",
       "      <td>Business, Management, Marketing, and Related S...</td>\n",
       "      <td>221523</td>\n",
       "      <td>0.12</td>\n",
       "      <td>1072</td>\n",
       "      <td>534</td>\n",
       "      <td>537</td>\n",
       "    </tr>\n",
       "  </tbody>\n",
       "</table>\n",
       "</div>"
      ],
      "text/plain": [
       "                                IntendedCollegeMajor  TestTakers  Percent  \\\n",
       "0  Agriculture, AgricultureOperations, and Relate...       24913     0.01   \n",
       "1                  Architecture and Related Services       28988     0.02   \n",
       "2         Area, Ethnic, Cultural, and Gender Studies        2629     0.00   \n",
       "3                 Biological and Biomedical Sciences      155834     0.08   \n",
       "4  Business, Management, Marketing, and Related S...      221523     0.12   \n",
       "\n",
       "   Total  ReadingWriting  Math  \n",
       "0    977             496   481  \n",
       "1   1047             520   527  \n",
       "2   1040             536   504  \n",
       "3   1139             572   566  \n",
       "4   1072             534   537  "
      ]
     },
     "execution_count": 15,
     "metadata": {},
     "output_type": "execute_result"
    }
   ],
   "source": [
    "sat_by_major['TestTakers'] = sat_by_major['TestTakers']\\\n",
    ".map(lambda number: int(number.replace(',', '')))\n",
    "\n",
    "sat_by_major.head()"
   ]
  },
  {
   "cell_type": "code",
   "execution_count": 16,
   "metadata": {
    "tags": []
   },
   "outputs": [
    {
     "data": {
      "text/plain": [
       "IntendedCollegeMajor     object\n",
       "TestTakers                int64\n",
       "Percent                 float64\n",
       "Total                     int64\n",
       "ReadingWriting            int64\n",
       "Math                      int64\n",
       "dtype: object"
      ]
     },
     "execution_count": 16,
     "metadata": {},
     "output_type": "execute_result"
    }
   ],
   "source": [
    "sat_by_major.dtypes"
   ]
  },
  {
   "cell_type": "code",
   "execution_count": 17,
   "metadata": {
    "tags": []
   },
   "outputs": [
    {
     "data": {
      "text/html": [
       "<div>\n",
       "<style scoped>\n",
       "    .dataframe tbody tr th:only-of-type {\n",
       "        vertical-align: middle;\n",
       "    }\n",
       "\n",
       "    .dataframe tbody tr th {\n",
       "        vertical-align: top;\n",
       "    }\n",
       "\n",
       "    .dataframe thead th {\n",
       "        text-align: right;\n",
       "    }\n",
       "</style>\n",
       "<table border=\"1\" class=\"dataframe\">\n",
       "  <thead>\n",
       "    <tr style=\"text-align: right;\">\n",
       "      <th></th>\n",
       "      <th>intended_college_major</th>\n",
       "      <th>number_of_testers</th>\n",
       "      <th>percent_by_intended_major</th>\n",
       "      <th>total_score</th>\n",
       "      <th>reading_writing_score</th>\n",
       "      <th>math_score</th>\n",
       "    </tr>\n",
       "  </thead>\n",
       "  <tbody>\n",
       "    <tr>\n",
       "      <th>0</th>\n",
       "      <td>Agriculture, AgricultureOperations, and Relate...</td>\n",
       "      <td>24913</td>\n",
       "      <td>0.01</td>\n",
       "      <td>977</td>\n",
       "      <td>496</td>\n",
       "      <td>481</td>\n",
       "    </tr>\n",
       "    <tr>\n",
       "      <th>1</th>\n",
       "      <td>Architecture and Related Services</td>\n",
       "      <td>28988</td>\n",
       "      <td>0.02</td>\n",
       "      <td>1047</td>\n",
       "      <td>520</td>\n",
       "      <td>527</td>\n",
       "    </tr>\n",
       "    <tr>\n",
       "      <th>2</th>\n",
       "      <td>Area, Ethnic, Cultural, and Gender Studies</td>\n",
       "      <td>2629</td>\n",
       "      <td>0.00</td>\n",
       "      <td>1040</td>\n",
       "      <td>536</td>\n",
       "      <td>504</td>\n",
       "    </tr>\n",
       "    <tr>\n",
       "      <th>3</th>\n",
       "      <td>Biological and Biomedical Sciences</td>\n",
       "      <td>155834</td>\n",
       "      <td>0.08</td>\n",
       "      <td>1139</td>\n",
       "      <td>572</td>\n",
       "      <td>566</td>\n",
       "    </tr>\n",
       "    <tr>\n",
       "      <th>4</th>\n",
       "      <td>Business, Management, Marketing, and Related S...</td>\n",
       "      <td>221523</td>\n",
       "      <td>0.12</td>\n",
       "      <td>1072</td>\n",
       "      <td>534</td>\n",
       "      <td>537</td>\n",
       "    </tr>\n",
       "  </tbody>\n",
       "</table>\n",
       "</div>"
      ],
      "text/plain": [
       "                              intended_college_major  number_of_testers  \\\n",
       "0  Agriculture, AgricultureOperations, and Relate...              24913   \n",
       "1                  Architecture and Related Services              28988   \n",
       "2         Area, Ethnic, Cultural, and Gender Studies               2629   \n",
       "3                 Biological and Biomedical Sciences             155834   \n",
       "4  Business, Management, Marketing, and Related S...             221523   \n",
       "\n",
       "   percent_by_intended_major  total_score  reading_writing_score  math_score  \n",
       "0                       0.01          977                    496         481  \n",
       "1                       0.02         1047                    520         527  \n",
       "2                       0.00         1040                    536         504  \n",
       "3                       0.08         1139                    572         566  \n",
       "4                       0.12         1072                    534         537  "
      ]
     },
     "execution_count": 17,
     "metadata": {},
     "output_type": "execute_result"
    }
   ],
   "source": [
    "sat_by_major_cols_dict = {\n",
    "    'IntendedCollegeMajor': 'intended_college_major',\n",
    "    'TestTakers': 'number_of_testers',\n",
    "    'Percent': 'percent_by_intended_major',\n",
    "    'Total': 'total_score',\n",
    "    'ReadingWriting': 'reading_writing_score',\n",
    "    'Math': 'math_score'\n",
    "}\n",
    "\n",
    "sat_by_major.rename(columns = sat_by_major_cols_dict, inplace = True)\n",
    "\n",
    "sat_by_major.head()"
   ]
  },
  {
   "cell_type": "markdown",
   "metadata": {},
   "source": [
    "---\n",
    "\n",
    "### Ranges of Accepted ACT & SAT Student Scores by Colleges Data Cleaning"
   ]
  },
  {
   "cell_type": "code",
   "execution_count": 18,
   "metadata": {
    "tags": []
   },
   "outputs": [
    {
     "name": "stdout",
     "output_type": "stream",
     "text": [
      "(416, 8)\n"
     ]
    },
    {
     "data": {
      "text/html": [
       "<div>\n",
       "<style scoped>\n",
       "    .dataframe tbody tr th:only-of-type {\n",
       "        vertical-align: middle;\n",
       "    }\n",
       "\n",
       "    .dataframe tbody tr th {\n",
       "        vertical-align: top;\n",
       "    }\n",
       "\n",
       "    .dataframe thead th {\n",
       "        text-align: right;\n",
       "    }\n",
       "</style>\n",
       "<table border=\"1\" class=\"dataframe\">\n",
       "  <thead>\n",
       "    <tr style=\"text-align: right;\">\n",
       "      <th></th>\n",
       "      <th>School</th>\n",
       "      <th>Test Optional?</th>\n",
       "      <th>Applies to Class Year(s)</th>\n",
       "      <th>Policy Details</th>\n",
       "      <th>Number of Applicants</th>\n",
       "      <th>Accept Rate</th>\n",
       "      <th>SAT Total 25th-75th Percentile</th>\n",
       "      <th>ACT Total 25th-75th Percentile</th>\n",
       "    </tr>\n",
       "  </thead>\n",
       "  <tbody>\n",
       "    <tr>\n",
       "      <th>0</th>\n",
       "      <td>Stanford University</td>\n",
       "      <td>Yes</td>\n",
       "      <td>2021</td>\n",
       "      <td>Stanford has adopted a one-year test optional ...</td>\n",
       "      <td>47452</td>\n",
       "      <td>4.3%</td>\n",
       "      <td>1440-1570</td>\n",
       "      <td>32-35</td>\n",
       "    </tr>\n",
       "    <tr>\n",
       "      <th>1</th>\n",
       "      <td>Harvard College</td>\n",
       "      <td>Yes</td>\n",
       "      <td>2021</td>\n",
       "      <td>Harvard has adopted a one-year test optional p...</td>\n",
       "      <td>42749</td>\n",
       "      <td>4.7%</td>\n",
       "      <td>1460-1580</td>\n",
       "      <td>33-35</td>\n",
       "    </tr>\n",
       "    <tr>\n",
       "      <th>2</th>\n",
       "      <td>Princeton University</td>\n",
       "      <td>Yes</td>\n",
       "      <td>2021</td>\n",
       "      <td>Princeton has adopted a one-year test optional...</td>\n",
       "      <td>35370</td>\n",
       "      <td>5.5%</td>\n",
       "      <td>1440-1570</td>\n",
       "      <td>32-35</td>\n",
       "    </tr>\n",
       "    <tr>\n",
       "      <th>3</th>\n",
       "      <td>Columbia University</td>\n",
       "      <td>Yes</td>\n",
       "      <td>2021</td>\n",
       "      <td>Columbia has adopted a one-year test optional ...</td>\n",
       "      <td>40203</td>\n",
       "      <td>5.5%</td>\n",
       "      <td>1450-1560</td>\n",
       "      <td>33-35</td>\n",
       "    </tr>\n",
       "    <tr>\n",
       "      <th>4</th>\n",
       "      <td>Yale University</td>\n",
       "      <td>Yes</td>\n",
       "      <td>2021</td>\n",
       "      <td>Yale has adopted a one-year test optional poli...</td>\n",
       "      <td>36844</td>\n",
       "      <td>6.1%</td>\n",
       "      <td>1460-1570</td>\n",
       "      <td>33-35</td>\n",
       "    </tr>\n",
       "  </tbody>\n",
       "</table>\n",
       "</div>"
      ],
      "text/plain": [
       "                 School Test Optional? Applies to Class Year(s)  \\\n",
       "0   Stanford University            Yes                     2021   \n",
       "1       Harvard College            Yes                     2021   \n",
       "2  Princeton University            Yes                     2021   \n",
       "3   Columbia University            Yes                     2021   \n",
       "4       Yale University            Yes                     2021   \n",
       "\n",
       "                                      Policy Details  Number of Applicants  \\\n",
       "0  Stanford has adopted a one-year test optional ...                 47452   \n",
       "1  Harvard has adopted a one-year test optional p...                 42749   \n",
       "2  Princeton has adopted a one-year test optional...                 35370   \n",
       "3  Columbia has adopted a one-year test optional ...                 40203   \n",
       "4  Yale has adopted a one-year test optional poli...                 36844   \n",
       "\n",
       "  Accept Rate SAT Total 25th-75th Percentile ACT Total 25th-75th Percentile  \n",
       "0        4.3%                      1440-1570                          32-35  \n",
       "1        4.7%                      1460-1580                          33-35  \n",
       "2        5.5%                      1440-1570                          32-35  \n",
       "3        5.5%                      1450-1560                          33-35  \n",
       "4        6.1%                      1460-1570                          33-35  "
      ]
     },
     "execution_count": 18,
     "metadata": {},
     "output_type": "execute_result"
    }
   ],
   "source": [
    "print(sat_by_college.shape)\n",
    "\n",
    "sat_by_college.head()"
   ]
  },
  {
   "cell_type": "code",
   "execution_count": 19,
   "metadata": {
    "tags": []
   },
   "outputs": [
    {
     "data": {
      "text/plain": [
       "intended_college_major        object\n",
       "number_of_testers              int64\n",
       "percent_by_intended_major    float64\n",
       "total_score                    int64\n",
       "reading_writing_score          int64\n",
       "math_score                     int64\n",
       "dtype: object"
      ]
     },
     "execution_count": 19,
     "metadata": {},
     "output_type": "execute_result"
    }
   ],
   "source": [
    "sat_by_major.dtypes"
   ]
  },
  {
   "cell_type": "code",
   "execution_count": 20,
   "metadata": {
    "tags": []
   },
   "outputs": [
    {
     "data": {
      "text/plain": [
       "School                             0\n",
       "Test Optional?                     0\n",
       "Applies to Class Year(s)          26\n",
       "Policy Details                     0\n",
       "Number of Applicants               0\n",
       "Accept Rate                        0\n",
       "SAT Total 25th-75th Percentile     0\n",
       "ACT Total 25th-75th Percentile     0\n",
       "dtype: int64"
      ]
     },
     "execution_count": 20,
     "metadata": {},
     "output_type": "execute_result"
    }
   ],
   "source": [
    "sat_by_college.isnull().sum()"
   ]
  },
  {
   "cell_type": "code",
   "execution_count": 21,
   "metadata": {
    "tags": []
   },
   "outputs": [
    {
     "data": {
      "text/plain": [
       "School                            object\n",
       "Test Optional?                    object\n",
       "Applies to Class Year(s)          object\n",
       "Policy Details                    object\n",
       "Number of Applicants               int64\n",
       "Accept Rate                       object\n",
       "SAT Total 25th-75th Percentile    object\n",
       "ACT Total 25th-75th Percentile    object\n",
       "dtype: object"
      ]
     },
     "execution_count": 21,
     "metadata": {},
     "output_type": "execute_result"
    }
   ],
   "source": [
    "sat_by_college.dtypes"
   ]
  },
  {
   "cell_type": "code",
   "execution_count": 22,
   "metadata": {
    "tags": []
   },
   "outputs": [
    {
     "data": {
      "text/plain": [
       "2021                        196\n",
       "All / Permanent Policy      158\n",
       "NaN                          26\n",
       "2021 2022 2023               15\n",
       "2021 2022                    11\n",
       "2021 2022 2023 2024           9\n",
       "2021 2022 2023 2024 2025      1\n",
       "Name: Applies to Class Year(s), dtype: int64"
      ]
     },
     "execution_count": 22,
     "metadata": {},
     "output_type": "execute_result"
    }
   ],
   "source": [
    "sat_by_college['Applies to Class Year(s)'].value_counts(dropna = False)"
   ]
  },
  {
   "cell_type": "code",
   "execution_count": 23,
   "metadata": {
    "tags": []
   },
   "outputs": [
    {
     "data": {
      "text/plain": [
       "(390, 8)"
      ]
     },
     "execution_count": 23,
     "metadata": {},
     "output_type": "execute_result"
    }
   ],
   "source": [
    "sat_by_college.dropna(inplace = True)\n",
    "\n",
    "sat_by_college.shape"
   ]
  },
  {
   "cell_type": "code",
   "execution_count": 24,
   "metadata": {
    "tags": []
   },
   "outputs": [
    {
     "data": {
      "text/html": [
       "<div>\n",
       "<style scoped>\n",
       "    .dataframe tbody tr th:only-of-type {\n",
       "        vertical-align: middle;\n",
       "    }\n",
       "\n",
       "    .dataframe tbody tr th {\n",
       "        vertical-align: top;\n",
       "    }\n",
       "\n",
       "    .dataframe thead th {\n",
       "        text-align: right;\n",
       "    }\n",
       "</style>\n",
       "<table border=\"1\" class=\"dataframe\">\n",
       "  <thead>\n",
       "    <tr style=\"text-align: right;\">\n",
       "      <th></th>\n",
       "      <th>School</th>\n",
       "      <th>Test Optional?</th>\n",
       "      <th>Applies to Class Year(s)</th>\n",
       "      <th>Policy Details</th>\n",
       "      <th>Number of Applicants</th>\n",
       "      <th>Accept Rate</th>\n",
       "      <th>SAT Total 25th-75th Percentile</th>\n",
       "      <th>ACT Total 25th-75th Percentile</th>\n",
       "    </tr>\n",
       "  </thead>\n",
       "  <tbody>\n",
       "    <tr>\n",
       "      <th>0</th>\n",
       "      <td>Stanford University</td>\n",
       "      <td>Yes</td>\n",
       "      <td>2021</td>\n",
       "      <td>Stanford has adopted a one-year test optional ...</td>\n",
       "      <td>47452</td>\n",
       "      <td>4.3%</td>\n",
       "      <td>1440-1570</td>\n",
       "      <td>32-35</td>\n",
       "    </tr>\n",
       "    <tr>\n",
       "      <th>1</th>\n",
       "      <td>Harvard College</td>\n",
       "      <td>Yes</td>\n",
       "      <td>2021</td>\n",
       "      <td>Harvard has adopted a one-year test optional p...</td>\n",
       "      <td>42749</td>\n",
       "      <td>4.7%</td>\n",
       "      <td>1460-1580</td>\n",
       "      <td>33-35</td>\n",
       "    </tr>\n",
       "    <tr>\n",
       "      <th>2</th>\n",
       "      <td>Princeton University</td>\n",
       "      <td>Yes</td>\n",
       "      <td>2021</td>\n",
       "      <td>Princeton has adopted a one-year test optional...</td>\n",
       "      <td>35370</td>\n",
       "      <td>5.5%</td>\n",
       "      <td>1440-1570</td>\n",
       "      <td>32-35</td>\n",
       "    </tr>\n",
       "    <tr>\n",
       "      <th>3</th>\n",
       "      <td>Columbia University</td>\n",
       "      <td>Yes</td>\n",
       "      <td>2021</td>\n",
       "      <td>Columbia has adopted a one-year test optional ...</td>\n",
       "      <td>40203</td>\n",
       "      <td>5.5%</td>\n",
       "      <td>1450-1560</td>\n",
       "      <td>33-35</td>\n",
       "    </tr>\n",
       "    <tr>\n",
       "      <th>4</th>\n",
       "      <td>Yale University</td>\n",
       "      <td>Yes</td>\n",
       "      <td>2021</td>\n",
       "      <td>Yale has adopted a one-year test optional poli...</td>\n",
       "      <td>36844</td>\n",
       "      <td>6.1%</td>\n",
       "      <td>1460-1570</td>\n",
       "      <td>33-35</td>\n",
       "    </tr>\n",
       "  </tbody>\n",
       "</table>\n",
       "</div>"
      ],
      "text/plain": [
       "                 School Test Optional? Applies to Class Year(s)  \\\n",
       "0   Stanford University            Yes                     2021   \n",
       "1       Harvard College            Yes                     2021   \n",
       "2  Princeton University            Yes                     2021   \n",
       "3   Columbia University            Yes                     2021   \n",
       "4       Yale University            Yes                     2021   \n",
       "\n",
       "                                      Policy Details  Number of Applicants  \\\n",
       "0  Stanford has adopted a one-year test optional ...                 47452   \n",
       "1  Harvard has adopted a one-year test optional p...                 42749   \n",
       "2  Princeton has adopted a one-year test optional...                 35370   \n",
       "3  Columbia has adopted a one-year test optional ...                 40203   \n",
       "4  Yale has adopted a one-year test optional poli...                 36844   \n",
       "\n",
       "  Accept Rate SAT Total 25th-75th Percentile ACT Total 25th-75th Percentile  \n",
       "0        4.3%                      1440-1570                          32-35  \n",
       "1        4.7%                      1460-1580                          33-35  \n",
       "2        5.5%                      1440-1570                          32-35  \n",
       "3        5.5%                      1450-1560                          33-35  \n",
       "4        6.1%                      1460-1570                          33-35  "
      ]
     },
     "execution_count": 24,
     "metadata": {},
     "output_type": "execute_result"
    }
   ],
   "source": [
    "sat_by_college.head()"
   ]
  },
  {
   "cell_type": "code",
   "execution_count": 25,
   "metadata": {},
   "outputs": [
    {
     "data": {
      "text/html": [
       "<div>\n",
       "<style scoped>\n",
       "    .dataframe tbody tr th:only-of-type {\n",
       "        vertical-align: middle;\n",
       "    }\n",
       "\n",
       "    .dataframe tbody tr th {\n",
       "        vertical-align: top;\n",
       "    }\n",
       "\n",
       "    .dataframe thead th {\n",
       "        text-align: right;\n",
       "    }\n",
       "</style>\n",
       "<table border=\"1\" class=\"dataframe\">\n",
       "  <thead>\n",
       "    <tr style=\"text-align: right;\">\n",
       "      <th></th>\n",
       "      <th>School</th>\n",
       "      <th>Test Optional?</th>\n",
       "      <th>Applies to Class Year(s)</th>\n",
       "      <th>Policy Details</th>\n",
       "      <th>Number of Applicants</th>\n",
       "      <th>Accept Rate</th>\n",
       "      <th>SAT Total 25th-75th Percentile</th>\n",
       "      <th>ACT Total 25th-75th Percentile</th>\n",
       "    </tr>\n",
       "  </thead>\n",
       "  <tbody>\n",
       "    <tr>\n",
       "      <th>0</th>\n",
       "      <td>Stanford University</td>\n",
       "      <td>Yes</td>\n",
       "      <td>2021</td>\n",
       "      <td>Stanford has adopted a one-year test optional ...</td>\n",
       "      <td>47452</td>\n",
       "      <td>0.043</td>\n",
       "      <td>1440-1570</td>\n",
       "      <td>32-35</td>\n",
       "    </tr>\n",
       "    <tr>\n",
       "      <th>1</th>\n",
       "      <td>Harvard College</td>\n",
       "      <td>Yes</td>\n",
       "      <td>2021</td>\n",
       "      <td>Harvard has adopted a one-year test optional p...</td>\n",
       "      <td>42749</td>\n",
       "      <td>0.047</td>\n",
       "      <td>1460-1580</td>\n",
       "      <td>33-35</td>\n",
       "    </tr>\n",
       "    <tr>\n",
       "      <th>2</th>\n",
       "      <td>Princeton University</td>\n",
       "      <td>Yes</td>\n",
       "      <td>2021</td>\n",
       "      <td>Princeton has adopted a one-year test optional...</td>\n",
       "      <td>35370</td>\n",
       "      <td>0.055</td>\n",
       "      <td>1440-1570</td>\n",
       "      <td>32-35</td>\n",
       "    </tr>\n",
       "    <tr>\n",
       "      <th>3</th>\n",
       "      <td>Columbia University</td>\n",
       "      <td>Yes</td>\n",
       "      <td>2021</td>\n",
       "      <td>Columbia has adopted a one-year test optional ...</td>\n",
       "      <td>40203</td>\n",
       "      <td>0.055</td>\n",
       "      <td>1450-1560</td>\n",
       "      <td>33-35</td>\n",
       "    </tr>\n",
       "    <tr>\n",
       "      <th>4</th>\n",
       "      <td>Yale University</td>\n",
       "      <td>Yes</td>\n",
       "      <td>2021</td>\n",
       "      <td>Yale has adopted a one-year test optional poli...</td>\n",
       "      <td>36844</td>\n",
       "      <td>0.061</td>\n",
       "      <td>1460-1570</td>\n",
       "      <td>33-35</td>\n",
       "    </tr>\n",
       "  </tbody>\n",
       "</table>\n",
       "</div>"
      ],
      "text/plain": [
       "                 School Test Optional? Applies to Class Year(s)  \\\n",
       "0   Stanford University            Yes                     2021   \n",
       "1       Harvard College            Yes                     2021   \n",
       "2  Princeton University            Yes                     2021   \n",
       "3   Columbia University            Yes                     2021   \n",
       "4       Yale University            Yes                     2021   \n",
       "\n",
       "                                      Policy Details  Number of Applicants  \\\n",
       "0  Stanford has adopted a one-year test optional ...                 47452   \n",
       "1  Harvard has adopted a one-year test optional p...                 42749   \n",
       "2  Princeton has adopted a one-year test optional...                 35370   \n",
       "3  Columbia has adopted a one-year test optional ...                 40203   \n",
       "4  Yale has adopted a one-year test optional poli...                 36844   \n",
       "\n",
       "   Accept Rate SAT Total 25th-75th Percentile ACT Total 25th-75th Percentile  \n",
       "0        0.043                      1440-1570                          32-35  \n",
       "1        0.047                      1460-1580                          33-35  \n",
       "2        0.055                      1440-1570                          32-35  \n",
       "3        0.055                      1450-1560                          33-35  \n",
       "4        0.061                      1460-1570                          33-35  "
      ]
     },
     "execution_count": 25,
     "metadata": {},
     "output_type": "execute_result"
    }
   ],
   "source": [
    "sat_by_college['Accept Rate'] = sat_by_college['Accept Rate']\\\n",
    ".map(lambda percent: float(percent.replace('%', ' ')) * 0.01)\n",
    "\n",
    "sat_by_college.head()"
   ]
  },
  {
   "cell_type": "code",
   "execution_count": 26,
   "metadata": {},
   "outputs": [
    {
     "data": {
      "text/plain": [
       "School                             object\n",
       "Test Optional?                     object\n",
       "Applies to Class Year(s)           object\n",
       "Policy Details                     object\n",
       "Number of Applicants                int64\n",
       "Accept Rate                       float64\n",
       "SAT Total 25th-75th Percentile     object\n",
       "ACT Total 25th-75th Percentile     object\n",
       "dtype: object"
      ]
     },
     "execution_count": 26,
     "metadata": {},
     "output_type": "execute_result"
    }
   ],
   "source": [
    "sat_by_college.dtypes"
   ]
  },
  {
   "cell_type": "markdown",
   "metadata": {},
   "source": [
    "For the purposes of my latter exploratory data analysis, I wanted to take the column of data \"SAT Total 25th-75th Percentile\" and split the ranges into separate columns of the 25th percentile and the 75th percentile, then convert them into numbers for comparison.\n",
    "\n",
    "Upon my first attempt, I ran into some errors in converting the data from text to numbers since some of the values had the unique character '\\u200b\\u200\\b' and some values were missing. I chose to run the unique method to see which data contained these characters and then strip them before converting any missing values to nulls."
   ]
  },
  {
   "cell_type": "code",
   "execution_count": 27,
   "metadata": {
    "tags": []
   },
   "outputs": [
    {
     "data": {
      "text/plain": [
       "array(['1440-1570', '1460-1580', '1450-1560', '1460-1570',\n",
       "       '\\u200b\\u200b 1530-1560', '\\u200b\\u200b 1500-1570',\n",
       "       '\\u200b\\u200b 1440-1570', '\\u200b\\u200b 1490-1570', '1390-1540',\n",
       "       '1440-1560', '1330-1520', '1450-1570', '1380-1540', '1440-1550',\n",
       "       '1460-1560', '1360-1510', '1470-1560', '1400-1560', '1410-1550',\n",
       "       '1340-1520', '1270-1480', '1290-1510', '1360-1520', '1350-1530',\n",
       "       '1350-1510', '1340-1490', '1300-1480', '1490-1570', '1370-1530',\n",
       "       '1300-1530', '1470-1570', '1360-1530', '1400-1550', '1283-1510',\n",
       "       '1370-1510', '1320-1510', '1370-1520', '1310-1485', '1350-1520',\n",
       "       '1360-1540', '1300-1510', '1348-1490', '1330-1500', '1300-1490',\n",
       "       '1340-1530', '1180-1440', '1340-1500', '1270-1450', '1280-1420',\n",
       "       '1370-1490', '1320-1470', '1290-1460', '1250-1420', '1290-1450',\n",
       "       '1300-1500', '1260-1460', '1320-1490', '1220-1400', '1250-1470',\n",
       "       '1250-1460', '1280-1500', '1250-1440', '1220-1380', '1240-1470',\n",
       "       '1333-1490', '1280-1450', '1300-1460', '1210-1380', '1110-1320',\n",
       "       '1270-1460', '1260-1430', '1255-1430', '1200-1390', '1220-1420',\n",
       "       '1040-1310', '1280-1480', '1090-1260', '1310-1450', '1270-1490',\n",
       "       '1030-1213', '1100-1320', '1180-1410', '890-1080', '1040-1250',\n",
       "       '1325-1520', '1310-1440', '1240-1410', '1280-1470', '1150-1410',\n",
       "       '1330-1480', '1160-1350', '1130-1330', '1080-1230', '1230-1410',\n",
       "       '1230-1440', '1220-1430', '1250-1390', '1200-1380', '1150-1360',\n",
       "       '1270-1420', '1250-1430', '1150-1350', '1210-1350', '1190-1430',\n",
       "       '1040-1270', '1200-1350', '1210-1420', '1280-1440', '1140-1320',\n",
       "       '1160-1370', '1210-1360', '1160-1360', '1310-1470', '1180-1370',\n",
       "       '1020-1205', '1230-1400', '1110-1290', '1200-1360', '1240-1440',\n",
       "       '1030-1200', '1330-1450', '1190-1370', '990-1160', '1090-1250',\n",
       "       '1050-1200', '1150-1380', '1040-1260', '1030-1250', '1240-1450',\n",
       "       '1240-1420', '1260-1440', '1130-1340', '1260-1480', '1203-1360',\n",
       "       '1040-1230', '1230-1390', '990-1190', '1160-1390', '1210-1450',\n",
       "       '1110-1310', '1080-1270', '950-1130', '1160-1340', '1070-1270',\n",
       "       '1170-1350', '1050-1250', '1220-1480', '1080-1260', '910-1130',\n",
       "       '1060-1320', '1090-1270', '1190-1440', '1120-1320', '1190-1410',\n",
       "       '1190-1400', '1140-1400', '1080-1368', '1120-1310', '1160-1330',\n",
       "       '1100-1345', '1170-1360', '1210-1358', '1080-1380', '1200-1430',\n",
       "       '1142.5-1380', '1110-1370', '1050-1310', '1020-1190', '1100-1370',\n",
       "       '1070-1280', '1180-1350', '1190-1380', '1190-1390', '1130-1360',\n",
       "       '1045-1225', '1070-1260', '1248-1420', '1010-1210', '1180-1390',\n",
       "       '1140-1310', '1120-1290', '1080-1358', '1170-1320', '1200-1400',\n",
       "       '1150-1340', '1078-1300', '1020-1240', '1180-1360', '940-1150',\n",
       "       '990-1210', '1080-1310', '1070-1290', '1090-1350', '1160-1338',\n",
       "       '910-1090', '990-1200', '1060-1295', '1000-1210', '--',\n",
       "       '1040-1265', '1150-1310', '990-1170', '1070-1300', '1070-1250',\n",
       "       '1050-1269', '1110-1280', '980-1180', '1180-1340', '1153-1390',\n",
       "       '1012-1345', '990-1180', '1110-1300', '1130-1300', '1030-1260',\n",
       "       '990-1230', '1010-1230', '1150-1330', '1060-1250', '1108-1273',\n",
       "       '970-1190', '1038-1250', '1170-1370', '1100-1250', '1050-1260',\n",
       "       '960-1170', '1060-1220', '1130-1380', '1030-1220', '1100-1270',\n",
       "       '1120-1300', '1060-1365', '1010-1240', '1090-1290', '1140-1340',\n",
       "       '1120-1360', '1140-1350', '1160-1320', '1240-1460', '1030-1190',\n",
       "       '1060-1260', '1143-1320', '1210-1410', '1040-1290', '1130-1310',\n",
       "       '1150-1320', '960-1180', '1070-1240', '1010-1250', '1010-1180',\n",
       "       '1050-1240', '1100-1310', '1020-1220', '940-1140', '1000-1160',\n",
       "       '1080-1320', '1150-1370', '1180-1380', '1060-1290', '1120-1350',\n",
       "       '1100-1290', '1220-1440', '1030-1230', '1090-1280', '1008-1240',\n",
       "       '1040-1240', '1000-1398', '980-1190', '1100-1340', '1090-1300',\n",
       "       '1060-1270', '1080-1300', '1000-1240', '990-1220'], dtype=object)"
      ]
     },
     "execution_count": 27,
     "metadata": {},
     "output_type": "execute_result"
    }
   ],
   "source": [
    "sat_by_college['SAT Total 25th-75th Percentile'].unique()"
   ]
  },
  {
   "cell_type": "markdown",
   "metadata": {},
   "source": [
    "There are at least four unique values which contain the nonsense string of characters mentioned above and one unique value of \"-- \", indicating some missing values. Below you will see that I stripped the nonsense characters, converted the missing values to nulls, and then dropped the nulls."
   ]
  },
  {
   "cell_type": "code",
   "execution_count": 28,
   "metadata": {
    "tags": []
   },
   "outputs": [
    {
     "data": {
      "text/plain": [
       "array(['1440-1570', '1460-1580', '1450-1560', '1460-1570', '1530-1560',\n",
       "       '1500-1570', '1490-1570', '1390-1540', '1440-1560', '1330-1520',\n",
       "       '1450-1570', '1380-1540', '1440-1550', '1460-1560', '1360-1510',\n",
       "       '1470-1560', '1400-1560', '1410-1550', '1340-1520', '1270-1480',\n",
       "       '1290-1510', '1360-1520', '1350-1530', '1350-1510', '1340-1490',\n",
       "       '1300-1480', '1370-1530', '1300-1530', '1470-1570', '1360-1530',\n",
       "       '1400-1550', '1283-1510', '1370-1510', '1320-1510', '1370-1520',\n",
       "       '1310-1485', '1350-1520', '1360-1540', '1300-1510', '1348-1490',\n",
       "       '1330-1500', '1300-1490', '1340-1530', '1180-1440', '1340-1500',\n",
       "       '1270-1450', '1280-1420', '1370-1490', '1320-1470', '1290-1460',\n",
       "       '1250-1420', '1290-1450', '1300-1500', '1260-1460', '1320-1490',\n",
       "       '1220-1400', '1250-1470', '1250-1460', '1280-1500', '1250-1440',\n",
       "       '1220-1380', '1240-1470', '1333-1490', '1280-1450', '1300-1460',\n",
       "       '1210-1380', '1110-1320', '1270-1460', '1260-1430', '1255-1430',\n",
       "       '1200-1390', '1220-1420', '1040-1310', '1280-1480', '1090-1260',\n",
       "       '1310-1450', '1270-1490', '1030-1213', '1100-1320', '1180-1410',\n",
       "       '890-1080', '1040-1250', '1325-1520', '1310-1440', '1240-1410',\n",
       "       '1280-1470', '1150-1410', '1330-1480', '1160-1350', '1130-1330',\n",
       "       '1080-1230', '1230-1410', '1230-1440', '1220-1430', '1250-1390',\n",
       "       '1200-1380', '1150-1360', '1270-1420', '1250-1430', '1150-1350',\n",
       "       '1210-1350', '1190-1430', '1040-1270', '1200-1350', '1210-1420',\n",
       "       '1280-1440', '1140-1320', '1160-1370', '1210-1360', '1160-1360',\n",
       "       '1310-1470', '1180-1370', '1020-1205', '1230-1400', '1110-1290',\n",
       "       '1200-1360', '1240-1440', '1030-1200', '1330-1450', '1190-1370',\n",
       "       '990-1160', '1090-1250', '1050-1200', '1150-1380', '1040-1260',\n",
       "       '1030-1250', '1240-1450', '1240-1420', '1260-1440', '1130-1340',\n",
       "       '1260-1480', '1203-1360', '1040-1230', '1230-1390', '990-1190',\n",
       "       '1160-1390', '1210-1450', '1110-1310', '1080-1270', '950-1130',\n",
       "       '1160-1340', '1070-1270', '1170-1350', '1050-1250', '1220-1480',\n",
       "       '1080-1260', '910-1130', '1060-1320', '1090-1270', '1190-1440',\n",
       "       '1120-1320', '1190-1410', '1190-1400', '1140-1400', '1080-1368',\n",
       "       '1120-1310', '1160-1330', '1100-1345', '1170-1360', '1210-1358',\n",
       "       '1080-1380', '1200-1430', '1142.5-1380', '1110-1370', '1050-1310',\n",
       "       '1020-1190', '1100-1370', '1070-1280', '1180-1350', '1190-1380',\n",
       "       '1190-1390', '1130-1360', '1045-1225', '1070-1260', '1248-1420',\n",
       "       '1010-1210', '1180-1390', '1140-1310', '1120-1290', '1080-1358',\n",
       "       '1170-1320', '1200-1400', '1150-1340', '1078-1300', '1020-1240',\n",
       "       '1180-1360', '940-1150', '990-1210', '1080-1310', '1070-1290',\n",
       "       '1090-1350', '1160-1338', '910-1090', '990-1200', '1060-1295',\n",
       "       '1000-1210', '--', '1040-1265', '1150-1310', '990-1170',\n",
       "       '1070-1300', '1070-1250', '1050-1269', '1110-1280', '980-1180',\n",
       "       '1180-1340', '1153-1390', '1012-1345', '990-1180', '1110-1300',\n",
       "       '1130-1300', '1030-1260', '990-1230', '1010-1230', '1150-1330',\n",
       "       '1060-1250', '1108-1273', '970-1190', '1038-1250', '1170-1370',\n",
       "       '1100-1250', '1050-1260', '960-1170', '1060-1220', '1130-1380',\n",
       "       '1030-1220', '1100-1270', '1120-1300', '1060-1365', '1010-1240',\n",
       "       '1090-1290', '1140-1340', '1120-1360', '1140-1350', '1160-1320',\n",
       "       '1240-1460', '1030-1190', '1060-1260', '1143-1320', '1210-1410',\n",
       "       '1040-1290', '1130-1310', '1150-1320', '960-1180', '1070-1240',\n",
       "       '1010-1250', '1010-1180', '1050-1240', '1100-1310', '1020-1220',\n",
       "       '940-1140', '1000-1160', '1080-1320', '1150-1370', '1180-1380',\n",
       "       '1060-1290', '1120-1350', '1100-1290', '1220-1440', '1030-1230',\n",
       "       '1090-1280', '1008-1240', '1040-1240', '1000-1398', '980-1190',\n",
       "       '1100-1340', '1090-1300', '1060-1270', '1080-1300', '1000-1240',\n",
       "       '990-1220'], dtype=object)"
      ]
     },
     "execution_count": 28,
     "metadata": {},
     "output_type": "execute_result"
    }
   ],
   "source": [
    "sat_by_college['SAT Total 25th-75th Percentile'] = sat_by_college['SAT Total 25th-75th Percentile']\\\n",
    ".map(lambda score: score.strip('\\u200b\\u200b '))\n",
    "\n",
    "sat_by_college['SAT Total 25th-75th Percentile'].unique()"
   ]
  },
  {
   "cell_type": "code",
   "execution_count": 29,
   "metadata": {
    "tags": []
   },
   "outputs": [
    {
     "data": {
      "text/plain": [
       "(390, 8)"
      ]
     },
     "execution_count": 29,
     "metadata": {},
     "output_type": "execute_result"
    }
   ],
   "source": [
    "sat_by_college.shape"
   ]
  },
  {
   "cell_type": "code",
   "execution_count": 30,
   "metadata": {
    "tags": []
   },
   "outputs": [
    {
     "data": {
      "text/plain": [
       "1070-1270    6\n",
       "NaN          5\n",
       "1140-1320    5\n",
       "1120-1320    5\n",
       "1050-1260    4\n",
       "            ..\n",
       "1200-1360    1\n",
       "1240-1440    1\n",
       "1030-1200    1\n",
       "1330-1450    1\n",
       "990-1220     1\n",
       "Name: SAT Total 25th-75th Percentile, Length: 271, dtype: int64"
      ]
     },
     "execution_count": 30,
     "metadata": {},
     "output_type": "execute_result"
    }
   ],
   "source": [
    "sat_by_college['SAT Total 25th-75th Percentile'] = sat_by_college['SAT Total 25th-75th Percentile']\\\n",
    ".map(lambda score: np.nan if score == '--' else score)\n",
    "\n",
    "sat_by_college['SAT Total 25th-75th Percentile'].value_counts(dropna = False)"
   ]
  },
  {
   "cell_type": "code",
   "execution_count": 31,
   "metadata": {
    "tags": []
   },
   "outputs": [
    {
     "name": "stdout",
     "output_type": "stream",
     "text": [
      "(385, 8)\n"
     ]
    },
    {
     "data": {
      "text/plain": [
       "array(['1440-1570', '1460-1580', '1450-1560', '1460-1570', '1530-1560',\n",
       "       '1500-1570', '1490-1570', '1390-1540', '1440-1560', '1330-1520',\n",
       "       '1450-1570', '1380-1540', '1440-1550', '1460-1560', '1360-1510',\n",
       "       '1470-1560', '1400-1560', '1410-1550', '1340-1520', '1270-1480',\n",
       "       '1290-1510', '1360-1520', '1350-1530', '1350-1510', '1340-1490',\n",
       "       '1300-1480', '1370-1530', '1300-1530', '1470-1570', '1360-1530',\n",
       "       '1400-1550', '1283-1510', '1370-1510', '1320-1510', '1370-1520',\n",
       "       '1310-1485', '1350-1520', '1360-1540', '1300-1510', '1348-1490',\n",
       "       '1330-1500', '1300-1490', '1340-1530', '1180-1440', '1340-1500',\n",
       "       '1270-1450', '1280-1420', '1370-1490', '1320-1470', '1290-1460',\n",
       "       '1250-1420', '1290-1450', '1300-1500', '1260-1460', '1320-1490',\n",
       "       '1220-1400', '1250-1470', '1250-1460', '1280-1500', '1250-1440',\n",
       "       '1220-1380', '1240-1470', '1333-1490', '1280-1450', '1300-1460',\n",
       "       '1210-1380', '1110-1320', '1270-1460', '1260-1430', '1255-1430',\n",
       "       '1200-1390', '1220-1420', '1040-1310', '1280-1480', '1090-1260',\n",
       "       '1310-1450', '1270-1490', '1030-1213', '1100-1320', '1180-1410',\n",
       "       '890-1080', '1040-1250', '1325-1520', '1310-1440', '1240-1410',\n",
       "       '1280-1470', '1150-1410', '1330-1480', '1160-1350', '1130-1330',\n",
       "       '1080-1230', '1230-1410', '1230-1440', '1220-1430', '1250-1390',\n",
       "       '1200-1380', '1150-1360', '1270-1420', '1250-1430', '1150-1350',\n",
       "       '1210-1350', '1190-1430', '1040-1270', '1200-1350', '1210-1420',\n",
       "       '1280-1440', '1140-1320', '1160-1370', '1210-1360', '1160-1360',\n",
       "       '1310-1470', '1180-1370', '1020-1205', '1230-1400', '1110-1290',\n",
       "       '1200-1360', '1240-1440', '1030-1200', '1330-1450', '1190-1370',\n",
       "       '990-1160', '1090-1250', '1050-1200', '1150-1380', '1040-1260',\n",
       "       '1030-1250', '1240-1450', '1240-1420', '1260-1440', '1130-1340',\n",
       "       '1260-1480', '1203-1360', '1040-1230', '1230-1390', '990-1190',\n",
       "       '1160-1390', '1210-1450', '1110-1310', '1080-1270', '950-1130',\n",
       "       '1160-1340', '1070-1270', '1170-1350', '1050-1250', '1220-1480',\n",
       "       '1080-1260', '910-1130', '1060-1320', '1090-1270', '1190-1440',\n",
       "       '1120-1320', '1190-1410', '1190-1400', '1140-1400', '1080-1368',\n",
       "       '1120-1310', '1160-1330', '1100-1345', '1170-1360', '1210-1358',\n",
       "       '1080-1380', '1200-1430', '1142.5-1380', '1110-1370', '1050-1310',\n",
       "       '1020-1190', '1100-1370', '1070-1280', '1180-1350', '1190-1380',\n",
       "       '1190-1390', '1130-1360', '1045-1225', '1070-1260', '1248-1420',\n",
       "       '1010-1210', '1180-1390', '1140-1310', '1120-1290', '1080-1358',\n",
       "       '1170-1320', '1200-1400', '1150-1340', '1078-1300', '1020-1240',\n",
       "       '1180-1360', '940-1150', '990-1210', '1080-1310', '1070-1290',\n",
       "       '1090-1350', '1160-1338', '910-1090', '990-1200', '1060-1295',\n",
       "       '1000-1210', '1040-1265', '1150-1310', '990-1170', '1070-1300',\n",
       "       '1070-1250', '1050-1269', '1110-1280', '980-1180', '1180-1340',\n",
       "       '1153-1390', '1012-1345', '990-1180', '1110-1300', '1130-1300',\n",
       "       '1030-1260', '990-1230', '1010-1230', '1150-1330', '1060-1250',\n",
       "       '1108-1273', '970-1190', '1038-1250', '1170-1370', '1100-1250',\n",
       "       '1050-1260', '960-1170', '1060-1220', '1130-1380', '1030-1220',\n",
       "       '1100-1270', '1120-1300', '1060-1365', '1010-1240', '1090-1290',\n",
       "       '1140-1340', '1120-1360', '1140-1350', '1160-1320', '1240-1460',\n",
       "       '1030-1190', '1060-1260', '1143-1320', '1210-1410', '1040-1290',\n",
       "       '1130-1310', '1150-1320', '960-1180', '1070-1240', '1010-1250',\n",
       "       '1010-1180', '1050-1240', '1100-1310', '1020-1220', '940-1140',\n",
       "       '1000-1160', '1080-1320', '1150-1370', '1180-1380', '1060-1290',\n",
       "       '1120-1350', '1100-1290', '1220-1440', '1030-1230', '1090-1280',\n",
       "       '1008-1240', '1040-1240', '1000-1398', '980-1190', '1100-1340',\n",
       "       '1090-1300', '1060-1270', '1080-1300', '1000-1240', '990-1220'],\n",
       "      dtype=object)"
      ]
     },
     "execution_count": 31,
     "metadata": {},
     "output_type": "execute_result"
    }
   ],
   "source": [
    "sat_by_college.dropna(inplace = True)\n",
    "\n",
    "print(sat_by_college.shape)\n",
    "\n",
    "sat_by_college['SAT Total 25th-75th Percentile'].unique()"
   ]
  },
  {
   "cell_type": "markdown",
   "metadata": {},
   "source": [
    "As you can see, five null values were dropped and now the \"SAT Total 25th-75th Percentile\" data are ready to be split into separate columns and converted to numbers."
   ]
  },
  {
   "cell_type": "code",
   "execution_count": 32,
   "metadata": {},
   "outputs": [
    {
     "data": {
      "text/html": [
       "<div>\n",
       "<style scoped>\n",
       "    .dataframe tbody tr th:only-of-type {\n",
       "        vertical-align: middle;\n",
       "    }\n",
       "\n",
       "    .dataframe tbody tr th {\n",
       "        vertical-align: top;\n",
       "    }\n",
       "\n",
       "    .dataframe thead th {\n",
       "        text-align: right;\n",
       "    }\n",
       "</style>\n",
       "<table border=\"1\" class=\"dataframe\">\n",
       "  <thead>\n",
       "    <tr style=\"text-align: right;\">\n",
       "      <th></th>\n",
       "      <th>School</th>\n",
       "      <th>Test Optional?</th>\n",
       "      <th>Applies to Class Year(s)</th>\n",
       "      <th>Policy Details</th>\n",
       "      <th>Number of Applicants</th>\n",
       "      <th>Accept Rate</th>\n",
       "      <th>SAT Total 25th-75th Percentile</th>\n",
       "      <th>ACT Total 25th-75th Percentile</th>\n",
       "      <th>sat_twenty_fifth_percentile</th>\n",
       "    </tr>\n",
       "  </thead>\n",
       "  <tbody>\n",
       "    <tr>\n",
       "      <th>0</th>\n",
       "      <td>Stanford University</td>\n",
       "      <td>Yes</td>\n",
       "      <td>2021</td>\n",
       "      <td>Stanford has adopted a one-year test optional ...</td>\n",
       "      <td>47452</td>\n",
       "      <td>0.043</td>\n",
       "      <td>1440-1570</td>\n",
       "      <td>32-35</td>\n",
       "      <td>1440.0</td>\n",
       "    </tr>\n",
       "    <tr>\n",
       "      <th>1</th>\n",
       "      <td>Harvard College</td>\n",
       "      <td>Yes</td>\n",
       "      <td>2021</td>\n",
       "      <td>Harvard has adopted a one-year test optional p...</td>\n",
       "      <td>42749</td>\n",
       "      <td>0.047</td>\n",
       "      <td>1460-1580</td>\n",
       "      <td>33-35</td>\n",
       "      <td>1460.0</td>\n",
       "    </tr>\n",
       "    <tr>\n",
       "      <th>2</th>\n",
       "      <td>Princeton University</td>\n",
       "      <td>Yes</td>\n",
       "      <td>2021</td>\n",
       "      <td>Princeton has adopted a one-year test optional...</td>\n",
       "      <td>35370</td>\n",
       "      <td>0.055</td>\n",
       "      <td>1440-1570</td>\n",
       "      <td>32-35</td>\n",
       "      <td>1440.0</td>\n",
       "    </tr>\n",
       "    <tr>\n",
       "      <th>3</th>\n",
       "      <td>Columbia University</td>\n",
       "      <td>Yes</td>\n",
       "      <td>2021</td>\n",
       "      <td>Columbia has adopted a one-year test optional ...</td>\n",
       "      <td>40203</td>\n",
       "      <td>0.055</td>\n",
       "      <td>1450-1560</td>\n",
       "      <td>33-35</td>\n",
       "      <td>1450.0</td>\n",
       "    </tr>\n",
       "    <tr>\n",
       "      <th>4</th>\n",
       "      <td>Yale University</td>\n",
       "      <td>Yes</td>\n",
       "      <td>2021</td>\n",
       "      <td>Yale has adopted a one-year test optional poli...</td>\n",
       "      <td>36844</td>\n",
       "      <td>0.061</td>\n",
       "      <td>1460-1570</td>\n",
       "      <td>33-35</td>\n",
       "      <td>1460.0</td>\n",
       "    </tr>\n",
       "  </tbody>\n",
       "</table>\n",
       "</div>"
      ],
      "text/plain": [
       "                 School Test Optional? Applies to Class Year(s)  \\\n",
       "0   Stanford University            Yes                     2021   \n",
       "1       Harvard College            Yes                     2021   \n",
       "2  Princeton University            Yes                     2021   \n",
       "3   Columbia University            Yes                     2021   \n",
       "4       Yale University            Yes                     2021   \n",
       "\n",
       "                                      Policy Details  Number of Applicants  \\\n",
       "0  Stanford has adopted a one-year test optional ...                 47452   \n",
       "1  Harvard has adopted a one-year test optional p...                 42749   \n",
       "2  Princeton has adopted a one-year test optional...                 35370   \n",
       "3  Columbia has adopted a one-year test optional ...                 40203   \n",
       "4  Yale has adopted a one-year test optional poli...                 36844   \n",
       "\n",
       "   Accept Rate SAT Total 25th-75th Percentile ACT Total 25th-75th Percentile  \\\n",
       "0        0.043                      1440-1570                          32-35   \n",
       "1        0.047                      1460-1580                          33-35   \n",
       "2        0.055                      1440-1570                          32-35   \n",
       "3        0.055                      1450-1560                          33-35   \n",
       "4        0.061                      1460-1570                          33-35   \n",
       "\n",
       "   sat_twenty_fifth_percentile  \n",
       "0                       1440.0  \n",
       "1                       1460.0  \n",
       "2                       1440.0  \n",
       "3                       1450.0  \n",
       "4                       1460.0  "
      ]
     },
     "execution_count": 32,
     "metadata": {},
     "output_type": "execute_result"
    }
   ],
   "source": [
    "sat_by_college['sat_twenty_fifth_percentile'] = sat_by_college['SAT Total 25th-75th Percentile']\\\n",
    ".map(lambda score: float(score.split('-')[0]))\n",
    "\n",
    "sat_by_college.head()"
   ]
  },
  {
   "cell_type": "code",
   "execution_count": 33,
   "metadata": {
    "tags": []
   },
   "outputs": [
    {
     "data": {
      "text/html": [
       "<div>\n",
       "<style scoped>\n",
       "    .dataframe tbody tr th:only-of-type {\n",
       "        vertical-align: middle;\n",
       "    }\n",
       "\n",
       "    .dataframe tbody tr th {\n",
       "        vertical-align: top;\n",
       "    }\n",
       "\n",
       "    .dataframe thead th {\n",
       "        text-align: right;\n",
       "    }\n",
       "</style>\n",
       "<table border=\"1\" class=\"dataframe\">\n",
       "  <thead>\n",
       "    <tr style=\"text-align: right;\">\n",
       "      <th></th>\n",
       "      <th>School</th>\n",
       "      <th>Test Optional?</th>\n",
       "      <th>Applies to Class Year(s)</th>\n",
       "      <th>Policy Details</th>\n",
       "      <th>Number of Applicants</th>\n",
       "      <th>Accept Rate</th>\n",
       "      <th>SAT Total 25th-75th Percentile</th>\n",
       "      <th>ACT Total 25th-75th Percentile</th>\n",
       "      <th>sat_twenty_fifth_percentile</th>\n",
       "      <th>sat_seventy_fifth_percentile</th>\n",
       "    </tr>\n",
       "  </thead>\n",
       "  <tbody>\n",
       "    <tr>\n",
       "      <th>0</th>\n",
       "      <td>Stanford University</td>\n",
       "      <td>Yes</td>\n",
       "      <td>2021</td>\n",
       "      <td>Stanford has adopted a one-year test optional ...</td>\n",
       "      <td>47452</td>\n",
       "      <td>0.043</td>\n",
       "      <td>1440-1570</td>\n",
       "      <td>32-35</td>\n",
       "      <td>1440.0</td>\n",
       "      <td>1570.0</td>\n",
       "    </tr>\n",
       "    <tr>\n",
       "      <th>1</th>\n",
       "      <td>Harvard College</td>\n",
       "      <td>Yes</td>\n",
       "      <td>2021</td>\n",
       "      <td>Harvard has adopted a one-year test optional p...</td>\n",
       "      <td>42749</td>\n",
       "      <td>0.047</td>\n",
       "      <td>1460-1580</td>\n",
       "      <td>33-35</td>\n",
       "      <td>1460.0</td>\n",
       "      <td>1580.0</td>\n",
       "    </tr>\n",
       "    <tr>\n",
       "      <th>2</th>\n",
       "      <td>Princeton University</td>\n",
       "      <td>Yes</td>\n",
       "      <td>2021</td>\n",
       "      <td>Princeton has adopted a one-year test optional...</td>\n",
       "      <td>35370</td>\n",
       "      <td>0.055</td>\n",
       "      <td>1440-1570</td>\n",
       "      <td>32-35</td>\n",
       "      <td>1440.0</td>\n",
       "      <td>1570.0</td>\n",
       "    </tr>\n",
       "    <tr>\n",
       "      <th>3</th>\n",
       "      <td>Columbia University</td>\n",
       "      <td>Yes</td>\n",
       "      <td>2021</td>\n",
       "      <td>Columbia has adopted a one-year test optional ...</td>\n",
       "      <td>40203</td>\n",
       "      <td>0.055</td>\n",
       "      <td>1450-1560</td>\n",
       "      <td>33-35</td>\n",
       "      <td>1450.0</td>\n",
       "      <td>1560.0</td>\n",
       "    </tr>\n",
       "    <tr>\n",
       "      <th>4</th>\n",
       "      <td>Yale University</td>\n",
       "      <td>Yes</td>\n",
       "      <td>2021</td>\n",
       "      <td>Yale has adopted a one-year test optional poli...</td>\n",
       "      <td>36844</td>\n",
       "      <td>0.061</td>\n",
       "      <td>1460-1570</td>\n",
       "      <td>33-35</td>\n",
       "      <td>1460.0</td>\n",
       "      <td>1570.0</td>\n",
       "    </tr>\n",
       "  </tbody>\n",
       "</table>\n",
       "</div>"
      ],
      "text/plain": [
       "                 School Test Optional? Applies to Class Year(s)  \\\n",
       "0   Stanford University            Yes                     2021   \n",
       "1       Harvard College            Yes                     2021   \n",
       "2  Princeton University            Yes                     2021   \n",
       "3   Columbia University            Yes                     2021   \n",
       "4       Yale University            Yes                     2021   \n",
       "\n",
       "                                      Policy Details  Number of Applicants  \\\n",
       "0  Stanford has adopted a one-year test optional ...                 47452   \n",
       "1  Harvard has adopted a one-year test optional p...                 42749   \n",
       "2  Princeton has adopted a one-year test optional...                 35370   \n",
       "3  Columbia has adopted a one-year test optional ...                 40203   \n",
       "4  Yale has adopted a one-year test optional poli...                 36844   \n",
       "\n",
       "   Accept Rate SAT Total 25th-75th Percentile ACT Total 25th-75th Percentile  \\\n",
       "0        0.043                      1440-1570                          32-35   \n",
       "1        0.047                      1460-1580                          33-35   \n",
       "2        0.055                      1440-1570                          32-35   \n",
       "3        0.055                      1450-1560                          33-35   \n",
       "4        0.061                      1460-1570                          33-35   \n",
       "\n",
       "   sat_twenty_fifth_percentile  sat_seventy_fifth_percentile  \n",
       "0                       1440.0                        1570.0  \n",
       "1                       1460.0                        1580.0  \n",
       "2                       1440.0                        1570.0  \n",
       "3                       1450.0                        1560.0  \n",
       "4                       1460.0                        1570.0  "
      ]
     },
     "execution_count": 33,
     "metadata": {},
     "output_type": "execute_result"
    }
   ],
   "source": [
    "sat_by_college['sat_seventy_fifth_percentile'] = sat_by_college['SAT Total 25th-75th Percentile']\\\n",
    ".map(lambda score: float(score.split('-')[1]))\n",
    "\n",
    "sat_by_college.head()"
   ]
  },
  {
   "cell_type": "code",
   "execution_count": 34,
   "metadata": {},
   "outputs": [
    {
     "data": {
      "text/plain": [
       "School                             object\n",
       "Test Optional?                     object\n",
       "Applies to Class Year(s)           object\n",
       "Policy Details                     object\n",
       "Number of Applicants                int64\n",
       "Accept Rate                       float64\n",
       "SAT Total 25th-75th Percentile     object\n",
       "ACT Total 25th-75th Percentile     object\n",
       "sat_twenty_fifth_percentile       float64\n",
       "sat_seventy_fifth_percentile      float64\n",
       "dtype: object"
      ]
     },
     "execution_count": 34,
     "metadata": {},
     "output_type": "execute_result"
    }
   ],
   "source": [
    "sat_by_college.dtypes"
   ]
  },
  {
   "cell_type": "code",
   "execution_count": 35,
   "metadata": {},
   "outputs": [
    {
     "data": {
      "text/html": [
       "<div>\n",
       "<style scoped>\n",
       "    .dataframe tbody tr th:only-of-type {\n",
       "        vertical-align: middle;\n",
       "    }\n",
       "\n",
       "    .dataframe tbody tr th {\n",
       "        vertical-align: top;\n",
       "    }\n",
       "\n",
       "    .dataframe thead th {\n",
       "        text-align: right;\n",
       "    }\n",
       "</style>\n",
       "<table border=\"1\" class=\"dataframe\">\n",
       "  <thead>\n",
       "    <tr style=\"text-align: right;\">\n",
       "      <th></th>\n",
       "      <th>school</th>\n",
       "      <th>test_optional</th>\n",
       "      <th>applies_to_class_years</th>\n",
       "      <th>policy_details</th>\n",
       "      <th>number_of_applicants</th>\n",
       "      <th>accept_rate</th>\n",
       "      <th>sat_total_middle_fifty_percent</th>\n",
       "      <th>act_total_middle_fifty_percent</th>\n",
       "      <th>sat_twenty_fifth_percentile</th>\n",
       "      <th>sat_seventy_fifth_percentile</th>\n",
       "    </tr>\n",
       "  </thead>\n",
       "  <tbody>\n",
       "    <tr>\n",
       "      <th>0</th>\n",
       "      <td>Stanford University</td>\n",
       "      <td>Yes</td>\n",
       "      <td>2021</td>\n",
       "      <td>Stanford has adopted a one-year test optional ...</td>\n",
       "      <td>47452</td>\n",
       "      <td>0.043</td>\n",
       "      <td>1440-1570</td>\n",
       "      <td>32-35</td>\n",
       "      <td>1440.0</td>\n",
       "      <td>1570.0</td>\n",
       "    </tr>\n",
       "    <tr>\n",
       "      <th>1</th>\n",
       "      <td>Harvard College</td>\n",
       "      <td>Yes</td>\n",
       "      <td>2021</td>\n",
       "      <td>Harvard has adopted a one-year test optional p...</td>\n",
       "      <td>42749</td>\n",
       "      <td>0.047</td>\n",
       "      <td>1460-1580</td>\n",
       "      <td>33-35</td>\n",
       "      <td>1460.0</td>\n",
       "      <td>1580.0</td>\n",
       "    </tr>\n",
       "    <tr>\n",
       "      <th>2</th>\n",
       "      <td>Princeton University</td>\n",
       "      <td>Yes</td>\n",
       "      <td>2021</td>\n",
       "      <td>Princeton has adopted a one-year test optional...</td>\n",
       "      <td>35370</td>\n",
       "      <td>0.055</td>\n",
       "      <td>1440-1570</td>\n",
       "      <td>32-35</td>\n",
       "      <td>1440.0</td>\n",
       "      <td>1570.0</td>\n",
       "    </tr>\n",
       "    <tr>\n",
       "      <th>3</th>\n",
       "      <td>Columbia University</td>\n",
       "      <td>Yes</td>\n",
       "      <td>2021</td>\n",
       "      <td>Columbia has adopted a one-year test optional ...</td>\n",
       "      <td>40203</td>\n",
       "      <td>0.055</td>\n",
       "      <td>1450-1560</td>\n",
       "      <td>33-35</td>\n",
       "      <td>1450.0</td>\n",
       "      <td>1560.0</td>\n",
       "    </tr>\n",
       "    <tr>\n",
       "      <th>4</th>\n",
       "      <td>Yale University</td>\n",
       "      <td>Yes</td>\n",
       "      <td>2021</td>\n",
       "      <td>Yale has adopted a one-year test optional poli...</td>\n",
       "      <td>36844</td>\n",
       "      <td>0.061</td>\n",
       "      <td>1460-1570</td>\n",
       "      <td>33-35</td>\n",
       "      <td>1460.0</td>\n",
       "      <td>1570.0</td>\n",
       "    </tr>\n",
       "  </tbody>\n",
       "</table>\n",
       "</div>"
      ],
      "text/plain": [
       "                 school test_optional applies_to_class_years  \\\n",
       "0   Stanford University           Yes                   2021   \n",
       "1       Harvard College           Yes                   2021   \n",
       "2  Princeton University           Yes                   2021   \n",
       "3   Columbia University           Yes                   2021   \n",
       "4       Yale University           Yes                   2021   \n",
       "\n",
       "                                      policy_details  number_of_applicants  \\\n",
       "0  Stanford has adopted a one-year test optional ...                 47452   \n",
       "1  Harvard has adopted a one-year test optional p...                 42749   \n",
       "2  Princeton has adopted a one-year test optional...                 35370   \n",
       "3  Columbia has adopted a one-year test optional ...                 40203   \n",
       "4  Yale has adopted a one-year test optional poli...                 36844   \n",
       "\n",
       "   accept_rate sat_total_middle_fifty_percent act_total_middle_fifty_percent  \\\n",
       "0        0.043                      1440-1570                          32-35   \n",
       "1        0.047                      1460-1580                          33-35   \n",
       "2        0.055                      1440-1570                          32-35   \n",
       "3        0.055                      1450-1560                          33-35   \n",
       "4        0.061                      1460-1570                          33-35   \n",
       "\n",
       "   sat_twenty_fifth_percentile  sat_seventy_fifth_percentile  \n",
       "0                       1440.0                        1570.0  \n",
       "1                       1460.0                        1580.0  \n",
       "2                       1440.0                        1570.0  \n",
       "3                       1450.0                        1560.0  \n",
       "4                       1460.0                        1570.0  "
      ]
     },
     "execution_count": 35,
     "metadata": {},
     "output_type": "execute_result"
    }
   ],
   "source": [
    "sat_by_college_cols_dict = {\n",
    "    'School': 'school',\n",
    "    'Test Optional?': 'test_optional',\n",
    "    'Applies to Class Year(s)': 'applies_to_class_years',\n",
    "    'Policy Details': 'policy_details',\n",
    "    'Number of Applicants': 'number_of_applicants',\n",
    "    'Accept Rate': 'accept_rate',\n",
    "    'SAT Total 25th-75th Percentile': 'sat_total_middle_fifty_percent',\n",
    "    'ACT Total 25th-75th Percentile': 'act_total_middle_fifty_percent',\n",
    "    'sat_twenty_fifth_percentile': 'sat_twenty_fifth_percentile',\n",
    "    'sat_seventy_fifth_percentile': 'sat_seventy_fifth_percentile'\n",
    "}\n",
    "\n",
    "sat_by_college.rename(columns = sat_by_college_cols_dict, inplace = True)\n",
    "\n",
    "sat_by_college.head()"
   ]
  },
  {
   "cell_type": "markdown",
   "metadata": {},
   "source": [
    "At this point, all three datasets have been cleaned and are prepared for further exploratory data analysis and visualization. I will save these updated files as new csv files in the data data directory."
   ]
  },
  {
   "cell_type": "code",
   "execution_count": 36,
   "metadata": {},
   "outputs": [],
   "source": [
    "sat_2019.to_csv('../data/updated_sat_2019.csv')\n",
    "\n",
    "sat_by_major.to_csv('../data/sat_by_major.csv')\n",
    "\n",
    "sat_by_college.to_csv('../data/sat_by_college.csv')"
   ]
  },
  {
   "cell_type": "markdown",
   "metadata": {},
   "source": [
    "---\n",
    "\n",
    "## Data Dictionary\n",
    "\n",
    "Now that the data have been fully cleaned and prepared for analysis and the data have been saved into new csv files, I am providing a data dictionary below with a description of the data columns and variables stored in each dataset. Please refer back to this data dictionary as needed to check on either the data types or the description of any of the data used for analysis and visualization"
   ]
  },
  {
   "cell_type": "markdown",
   "metadata": {},
   "source": [
    "### Updated SAT 2019 Dataset\n",
    "\n",
    "|Feature|Type|Dataset|Description|\n",
    "|---|---|---|---|\n",
    "|state|object|Updated SAT 2019|The U.S state from which the testing was collected.|\n",
    "|participation_rate|float|Updated SAT 2019|The percentage of students in the state taking the exam in 2019.|\n",
    "|reading_writing_score|integer|Updated SAT 2019|The average Evidence-Based Reading and Writing section score on a scale of 200-800 in 2019.|\n",
    "|math_score|integer|Updated SAT 2019|The average Math section score on a scale of 200-800 in 2019.|\n",
    "|total_score|integer|Updated SAT 2019|The average total score of both combined exam sections on a scale of 400-1600 in 2019.|\n",
    "\n",
    "### Updated SAT by Major Dataset\n",
    "\n",
    "|Feature|Type|Dataset|Description|\n",
    "|---|---|---|---|\n",
    "|intended_college_major|object|SAT by Major|The intended college major which testers indicate.|\n",
    "|number_of_testers|integer|SAT by Major|Total number of testers for each given intended college major.|\n",
    "|percent_by_intended_major|float|SAT by Major|The percentage of testers indicating a given intended college major out of the total number of testers.|\n",
    "|total_score|integer|SAT by Major|The average total score for a given intended college major.|\n",
    "|reading_writing_score|integer|SAT by Major|The average Evidence-Based Reading and Writing score for a given intended college major.|\n",
    "|math_score|integer|SAT by Major|The average Math score for a given intended college major.|\n",
    "\n",
    "\n",
    "### Updated SAT by College Dataset\n",
    "\n",
    "|Feature|Type|Dataset|Description|\n",
    "|---|---|---|---|\n",
    "|school|object|SAT by College|The school for which ACT/SAT test scores and admissions data were collected.|\n",
    "|test_optional|object|SAT by College|Yes or no if the college has a test-optional policy in place.|\n",
    "|applies_to_class_years|object|SAT by College|Class years to which the test optional policy currently applies, if applicable.|\n",
    "|policy_details|object|SAT by College|Specific test-optional policy details of the school|\n",
    "|number_applicants|integer|SAT by College|Number of applicants for each school for Fall 2021|\n",
    "|accept_rate|float|SAT by College|Acceptance rate for each school as a percentage.|\n",
    "|sat_total_middle_fifty_percent|object|SAT by College|Range of SAT scores in the 25th to 75th percentile for all Fall 2021 accepted students at the school.|\n",
    "|act_total_middle_fifty_percent|object|SAT by College|Range of ACT scores in the 25th to 75th percentile for all Fall 2021 accepted students at the school.|\n",
    "|sat_twenty_fifth_percentile|float|SAT by College|The 25th percentile only of SAT scores for all Fall 2021 accepted students at the school.|\n",
    "|sat_seventy_fifth_percentile|float|SAT by College|The 75th percentile only of SAT scores for all Fall 2021 accepted students at the school.|"
   ]
  },
  {
   "cell_type": "markdown",
   "metadata": {},
   "source": [
    "---\n",
    "\n",
    "## Notebook Conclusion\n",
    "\n",
    "In this notebook, I imported and cleaned the data from three different datasets to prepare it for analysis and visualization. Also, I saved the three notebooks as new csv files in the data directory, keeping the original datasets available for the reader to review. Finally, I created a data dictionary for all three of the updated and saved datasets for the reader to use as a reference in interpreting my analysis and visuals in Part 3's notebook.\n",
    "\n",
    "In Part 3, I will analyze the three datasets and generate data visuals to identify trends in our SAT testing data. Any revealed trends will lead us to further board policy recommendations of which students might be prone for an SAT marketing strategy for growth in College Board market share in the standardized testing market."
   ]
  }
 ],
 "metadata": {
  "anaconda-cloud": {},
  "kernelspec": {
   "display_name": "Python 3 (ipykernel)",
   "language": "python",
   "name": "python3"
  },
  "language_info": {
   "codemirror_mode": {
    "name": "ipython",
    "version": 3
   },
   "file_extension": ".py",
   "mimetype": "text/x-python",
   "name": "python",
   "nbconvert_exporter": "python",
   "pygments_lexer": "ipython3",
   "version": "3.8.16"
  }
 },
 "nbformat": 4,
 "nbformat_minor": 4
}
